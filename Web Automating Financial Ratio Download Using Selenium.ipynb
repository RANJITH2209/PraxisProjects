{
 "cells": [
  {
   "cell_type": "code",
   "execution_count": 95,
   "id": "f9e08364",
   "metadata": {},
   "outputs": [],
   "source": [
    "from selenium import webdriver\n",
    "from selenium.webdriver.common.keys import Keys\n",
    "import time\n",
    "from selenium.webdriver.common.by import By\n",
    "import pandas as pd"
   ]
  },
  {
   "cell_type": "code",
   "execution_count": 97,
   "id": "36fefd26",
   "metadata": {
    "scrolled": true
   },
   "outputs": [
    {
     "data": {
      "text/html": [
       "<div>\n",
       "<style scoped>\n",
       "    .dataframe tbody tr th:only-of-type {\n",
       "        vertical-align: middle;\n",
       "    }\n",
       "\n",
       "    .dataframe tbody tr th {\n",
       "        vertical-align: top;\n",
       "    }\n",
       "\n",
       "    .dataframe thead th {\n",
       "        text-align: right;\n",
       "    }\n",
       "</style>\n",
       "<table border=\"1\" class=\"dataframe\">\n",
       "  <thead>\n",
       "    <tr style=\"text-align: right;\">\n",
       "      <th></th>\n",
       "      <th>Company Name</th>\n",
       "      <th>Industry</th>\n",
       "      <th>Symbol</th>\n",
       "      <th>Series</th>\n",
       "      <th>ISIN Code</th>\n",
       "    </tr>\n",
       "  </thead>\n",
       "  <tbody>\n",
       "    <tr>\n",
       "      <th>0</th>\n",
       "      <td>ABB India Ltd.</td>\n",
       "      <td>Capital Goods</td>\n",
       "      <td>ABB</td>\n",
       "      <td>EQ</td>\n",
       "      <td>INE117A01022</td>\n",
       "    </tr>\n",
       "    <tr>\n",
       "      <th>1</th>\n",
       "      <td>ACC Ltd.</td>\n",
       "      <td>Construction Materials</td>\n",
       "      <td>ACC</td>\n",
       "      <td>EQ</td>\n",
       "      <td>INE012A01025</td>\n",
       "    </tr>\n",
       "    <tr>\n",
       "      <th>2</th>\n",
       "      <td>AU Small Finance Bank Ltd.</td>\n",
       "      <td>Financial Services</td>\n",
       "      <td>AUBANK</td>\n",
       "      <td>EQ</td>\n",
       "      <td>INE949L01017</td>\n",
       "    </tr>\n",
       "    <tr>\n",
       "      <th>3</th>\n",
       "      <td>Abbott India Ltd.</td>\n",
       "      <td>Healthcare</td>\n",
       "      <td>ABBOTINDIA</td>\n",
       "      <td>EQ</td>\n",
       "      <td>INE358A01014</td>\n",
       "    </tr>\n",
       "    <tr>\n",
       "      <th>4</th>\n",
       "      <td>Adani Enterprises Ltd.</td>\n",
       "      <td>Metals &amp; Mining</td>\n",
       "      <td>ADANIENT</td>\n",
       "      <td>EQ</td>\n",
       "      <td>INE423A01024</td>\n",
       "    </tr>\n",
       "  </tbody>\n",
       "</table>\n",
       "</div>"
      ],
      "text/plain": [
       "                 Company Name                Industry      Symbol Series  \\\n",
       "0              ABB India Ltd.           Capital Goods         ABB     EQ   \n",
       "1                    ACC Ltd.  Construction Materials         ACC     EQ   \n",
       "2  AU Small Finance Bank Ltd.      Financial Services      AUBANK     EQ   \n",
       "3           Abbott India Ltd.              Healthcare  ABBOTINDIA     EQ   \n",
       "4      Adani Enterprises Ltd.         Metals & Mining    ADANIENT     EQ   \n",
       "\n",
       "      ISIN Code  \n",
       "0  INE117A01022  \n",
       "1  INE012A01025  \n",
       "2  INE949L01017  \n",
       "3  INE358A01014  \n",
       "4  INE423A01024  "
      ]
     },
     "execution_count": 97,
     "metadata": {},
     "output_type": "execute_result"
    }
   ],
   "source": [
    "nifty500sym = pd.read_csv(\"ind_nifty200list.csv\")\n",
    "nifty500sym.head()"
   ]
  },
  {
   "cell_type": "code",
   "execution_count": 184,
   "id": "964370e5",
   "metadata": {},
   "outputs": [
    {
     "data": {
      "text/plain": [
       "196                         Yes Bank Ltd.\n",
       "197    Zee Entertainment Enterprises Ltd.\n",
       "198                           Zomato Ltd.\n",
       "199               Zydus Lifesciences Ltd.\n",
       "Name: Company Name, dtype: object"
      ]
     },
     "execution_count": 184,
     "metadata": {},
     "output_type": "execute_result"
    }
   ],
   "source": [
    "nifty500sym[\"Company Name\"][196:]"
   ]
  },
  {
   "cell_type": "code",
   "execution_count": 107,
   "id": "f390bc89",
   "metadata": {},
   "outputs": [],
   "source": [
    "# for i in nifty500sym[\"Company Name\"][0:5]:\n",
    "#     print(i)"
   ]
  },
  {
   "cell_type": "code",
   "execution_count": 185,
   "id": "8e160451",
   "metadata": {},
   "outputs": [
    {
     "name": "stderr",
     "output_type": "stream",
     "text": [
      "C:\\Users\\Balaji\\AppData\\Local\\Temp\\ipykernel_19124\\3310380994.py:1: DeprecationWarning: executable_path has been deprecated, please pass in a Service object\n",
      "  driver = webdriver.Chrome(executable_path=\"E:\\chromedriver.exe\")\n"
     ]
    }
   ],
   "source": [
    "driver = webdriver.Chrome(executable_path=\"E:\\chromedriver.exe\")\n",
    "driver.implicitly_wait(1)\n",
    "#launch URL\n",
    "driver.get(\"https://google.com/\")\n"
   ]
  },
  {
   "cell_type": "code",
   "execution_count": 186,
   "id": "2ced44f7",
   "metadata": {},
   "outputs": [],
   "source": [
    "begin = time.time()\n",
    "#name = [\"SBI\",\"ACC\"]\n",
    "L6 = []\n",
    "Links6 = {}\n",
    "count = 0\n",
    "for i in nifty500sym[\"Company Name\"][196:]:\n",
    "    driver.get(\"https://google.com/\")\n",
    "    m = driver.find_element(by = \"xpath\",\n",
    "                       value = \"/html/body/div[1]/div[3]/form/div[1]/div[1]/div[1]/div/div[2]/input\")\n",
    "    default1 = \"moneycontrol \"\n",
    "    company = i+\" \"\n",
    "    default2 = \"financial ratios\"\n",
    "    m.send_keys(default1+company+default2)\n",
    "    time.sleep(2)\n",
    "    m.send_keys(Keys.ENTER)\n",
    "    if count == 0:\n",
    "        time.sleep(15)\n",
    "    mainlink = driver.find_element(By.TAG_NAME,'h3')\n",
    "    mainlink.click()\n",
    "    if count == 0:\n",
    "        driver.find_element(by = \"xpath\",\n",
    "                       value = \"//*[@id='wzrk-cancel']\").click()\n",
    "    driver.find_element(by = \"xpath\",\n",
    "                   value = \"//*[@id='#consolidated']\").click()\n",
    "    count += 1\n",
    "    L6.append(driver.current_url)\n",
    "    Links6[i] = driver.current_url\n",
    "end = time.time()"
   ]
  },
  {
   "cell_type": "code",
   "execution_count": 187,
   "id": "51b595ab",
   "metadata": {},
   "outputs": [
    {
     "data": {
      "text/plain": [
       "{'Yes Bank Ltd.': 'https://www.moneycontrol.com/financials/yesbank/consolidated-ratiosVI/YB#YB',\n",
       " 'Zee Entertainment Enterprises Ltd.': 'https://www.moneycontrol.com/financials/zeeentertainmententerprises/consolidated-ratiosVI/ZEE#ZEE',\n",
       " 'Zomato Ltd.': 'https://www.moneycontrol.com/financials/zomato/consolidated-ratiosVI/Z#Z',\n",
       " 'Zydus Lifesciences Ltd.': 'https://www.moneycontrol.com/financials/zyduslifesciences/consolidated-ratiosVI/CHC#CHC'}"
      ]
     },
     "execution_count": 187,
     "metadata": {},
     "output_type": "execute_result"
    }
   ],
   "source": [
    "Links6"
   ]
  },
  {
   "cell_type": "code",
   "execution_count": 188,
   "id": "4c44cbce",
   "metadata": {},
   "outputs": [],
   "source": [
    "Linksdf6 = pd.DataFrame.from_dict([Links6])"
   ]
  },
  {
   "cell_type": "code",
   "execution_count": 189,
   "id": "95ccd836",
   "metadata": {},
   "outputs": [],
   "source": [
    "Linksdf6.to_csv(\"Links6.csv\")"
   ]
  },
  {
   "cell_type": "code",
   "execution_count": 120,
   "id": "6d5394eb",
   "metadata": {},
   "outputs": [],
   "source": [
    "Linksdf1 = pd.DataFrame.from_dict([Links])"
   ]
  },
  {
   "cell_type": "code",
   "execution_count": 122,
   "id": "19301da3",
   "metadata": {},
   "outputs": [],
   "source": [
    "Linksdf1.to_csv(\"Links1.csv\")"
   ]
  },
  {
   "cell_type": "code",
   "execution_count": null,
   "id": "f6de1faf",
   "metadata": {},
   "outputs": [],
   "source": [
    "pd.DataFrame()"
   ]
  },
  {
   "cell_type": "code",
   "execution_count": 71,
   "id": "c1051a4b",
   "metadata": {},
   "outputs": [],
   "source": [
    "# default1 = \"moneycontrol \"\n",
    "# company = \"ACC \"\n",
    "# default2 = \"financial ratios\"\n",
    "# #driver.get(default1+company+default2)\n",
    "# driver.get(\"https://www.python.org\")"
   ]
  },
  {
   "cell_type": "code",
   "execution_count": 147,
   "id": "f2c9136c",
   "metadata": {},
   "outputs": [],
   "source": [
    "L.append(L2)"
   ]
  },
  {
   "cell_type": "code",
   "execution_count": 148,
   "id": "d85d1b03",
   "metadata": {},
   "outputs": [
    {
     "data": {
      "text/plain": [
       "['https://www.moneycontrol.com/financials/abbindia/consolidated-ratiosVI/ABB#ABB',\n",
       " 'https://www.moneycontrol.com/financials/acc/consolidated-ratiosVI/ACC06#ACC06',\n",
       " 'https://www.moneycontrol.com/financials/ausmallfinancebank/consolidated-ratiosVI/ASF02#ASF02',\n",
       " 'https://www.moneycontrol.com/financials/abbottindia/consolidated-ratiosVI/AI51#AI51',\n",
       " 'https://www.moneycontrol.com/financials/adanienterprises/consolidated-ratiosVI/AE13#AE13',\n",
       " 'https://www.moneycontrol.com/financials/adanigreenenergylimited/consolidated-ratiosVI/ADANI54145#ADANI54145',\n",
       " 'https://www.moneycontrol.com/financials/adaniportsandspecialeconomiczone/consolidated-ratiosVI/MPS#MPS',\n",
       " 'https://www.moneycontrol.com/financials/adanitotalgas/consolidated-ratiosVI/ADG01#ADG01',\n",
       " 'https://www.moneycontrol.com/financials/adanitransmission/consolidated-ratiosVI/AT22#AT22',\n",
       " 'https://www.moneycontrol.com/financials/adaniwilmar/consolidated-ratiosVI/AW#AW',\n",
       " 'https://www.moneycontrol.com/financials/adityabirlacapital/consolidated-ratiosVI/ABC9#ABC9',\n",
       " 'https://www.moneycontrol.com/financials/adityabirlafashion&retail/consolidated-ratiosVI/PFR#PFR',\n",
       " 'https://www.moneycontrol.com/financials/alkemlaboratories/consolidated-ratiosVI/AL05#AL05',\n",
       " 'https://www.moneycontrol.com/financials/ambujacements/consolidated-ratiosVI/AC18#AC18',\n",
       " 'https://www.moneycontrol.com/financials/apollohospitalsenterprises/consolidated-ratiosVI/AHE#AHE',\n",
       " 'https://www.moneycontrol.com/financials/ashokleyland/consolidated-ratiosVI/AL#AL',\n",
       " 'https://www.moneycontrol.com/financials/asianpaints/consolidated-ratiosVI/AP31#AP31',\n",
       " 'https://www.moneycontrol.com/financials/astrallimited/consolidated-ratiosVI/APT02#APT02',\n",
       " 'https://www.moneycontrol.com/financials/aurobindopharma/consolidated-ratiosVI/AP#AP',\n",
       " 'https://www.moneycontrol.com/financials/avenuesupermarts/consolidated-ratiosVI/AS19#AS19',\n",
       " 'https://www.moneycontrol.com/financials/axisbank/consolidated-ratiosVI/AB16#AB16',\n",
       " 'https://www.moneycontrol.com/financials/bajajauto/consolidated-ratiosVI/BA10#BA10',\n",
       " 'https://www.moneycontrol.com/financials/bajajfinance/consolidated-ratiosVI/BAF#BAF',\n",
       " 'https://www.moneycontrol.com/financials/bajajfinance/consolidated-ratiosVI/BAF#BAF',\n",
       " 'https://www.moneycontrol.com/financials/bajajholdings&investment/consolidated-ratiosVI/BHI#BHI',\n",
       " 'https://www.moneycontrol.com/financials/balkrishnaindustries/consolidated-ratiosVI/BI03#BI03',\n",
       " 'https://www.moneycontrol.com/financials/bandhanbank/consolidated-ratiosVI/BB09#BB09',\n",
       " 'https://www.moneycontrol.com/financials/bankofbaroda/consolidated-ratiosVI/BOB#BOB',\n",
       " 'https://www.moneycontrol.com/financials/bankofindia/consolidated-ratiosVI/BOI#BOI',\n",
       " 'https://www.moneycontrol.com/financials/bataindia/consolidated-ratiosVI/BI01#BI01',\n",
       " 'https://www.moneycontrol.com/financials/bergerpaintsindia/consolidated-ratiosVI/BPI02#BPI02',\n",
       " 'https://www.moneycontrol.com/financials/bharatelectronics/consolidated-ratiosVI/BE03#BE03',\n",
       " 'https://www.moneycontrol.com/financials/bharatforge/consolidated-ratiosVI/BF03#BF03',\n",
       " 'https://www.moneycontrol.com/financials/bharatheavyelectricals/consolidated-ratiosVI/BHE#BHE',\n",
       " 'https://www.moneycontrol.com/financials/bharatpetroleumcorporation/consolidated-ratiosVI/BPC#BPC',\n",
       " 'https://www.moneycontrol.com/financials/bhartiairtel/consolidated-ratiosVI/BA08#BA08',\n",
       " 'https://www.moneycontrol.com/financials/biocon/consolidated-ratiosVI/BL03#BL03',\n",
       " 'https://www.moneycontrol.com/financials/bosch/consolidated-ratiosVI/B05#B05',\n",
       " 'https://www.moneycontrol.com/financials/britanniaindustries/consolidated-ratiosVI/BI#BI',\n",
       " 'https://www.moneycontrol.com/financials/canarabank/consolidated-ratiosVI/CB06#CB06',\n",
       " 'https://www.moneycontrol.com/financials/cholamandalaminvestmentandfinancecompany/consolidated-ratiosVI/CDB#CDB',\n",
       " 'https://www.moneycontrol.com/financials/cipla/consolidated-ratiosVI/C#C',\n",
       " 'https://www.moneycontrol.com/financials/cleanscience&technology/consolidated-ratiosVI/CST#CST',\n",
       " 'https://www.moneycontrol.com/financials/coalindia/consolidated-ratiosVI/CI11#CI11',\n",
       " 'https://www.moneycontrol.com/financials/coforgelimited/consolidated-ratiosVI/nii02#nii02',\n",
       " 'https://www.moneycontrol.com/financials/colgatepalmolive(india)/consolidated-ratiosVI/cpi#cpi',\n",
       " 'https://www.moneycontrol.com/financials/containercorporationofindia/consolidated-ratiosVI/CCI#CCI',\n",
       " 'https://www.moneycontrol.com/financials/coromandelinternational/consolidated-ratiosVI/CI45#CI45',\n",
       " 'https://www.moneycontrol.com/financials/cromptongreavesconsumerelectrical/consolidated-ratiosVI/CGC01#CGC01',\n",
       " 'https://www.moneycontrol.com/financials/cumminsindia/consolidated-ratiosVI/CI02#CI02',\n",
       " 'https://www.moneycontrol.com/financials/dlf/consolidated-ratiosVI/D04#D04',\n",
       " 'https://www.moneycontrol.com/financials/daburindia/consolidated-ratiosVI/DI#DI',\n",
       " 'https://www.moneycontrol.com/financials/dalmiabharat/consolidated-ratiosVI/OCL#OCL',\n",
       " 'https://www.moneycontrol.com/financials/deepaknitrite/consolidated-ratiosVI/DN#DN',\n",
       " 'https://www.moneycontrol.com/financials/delhivery/consolidated-ratiosVI/D06#D06',\n",
       " 'https://www.moneycontrol.com/financials/divislaboratories/consolidated-ratiosVI/DL03#DL03',\n",
       " 'https://www.moneycontrol.com/financials/dixontechnologies/consolidated-ratiosVI/DT07#DT07',\n",
       " 'https://www.moneycontrol.com/financials/drlalpathlabs/consolidated-ratiosVI/DLP01#DLP01',\n",
       " 'https://www.moneycontrol.com/financials/drreddyslaboratories/consolidated-ratiosVI/DRL#DRL',\n",
       " 'https://www.moneycontrol.com/financials/eichermotors/consolidated-ratiosVI/EM#EM',\n",
       " 'https://www.moneycontrol.com/financials/emami/consolidated-ratiosVI/E06#E06',\n",
       " 'https://www.moneycontrol.com/financials/escortskubota/consolidated-ratiosVI/E#E',\n",
       " 'https://www.moneycontrol.com/financials/fsne-commerceventuresnykaa/consolidated-ratiosVI/FEV#FEV',\n",
       " ['https://www.moneycontrol.com/financials/federalbank/consolidated-ratiosVI/FB#FB',\n",
       "  'https://www.moneycontrol.com/financials/fortishealthcare/consolidated-ratiosVI/FH#FH',\n",
       "  'https://www.moneycontrol.com/financials/gailindia/consolidated-ratiosVI/GAI#GAI',\n",
       "  'https://www.moneycontrol.com/financials/glandpharma/consolidated-ratiosVI/GP14#GP14',\n",
       "  'https://www.moneycontrol.com/financials/godrejconsumerproducts/consolidated-ratiosVI/GCP#GCP',\n",
       "  'https://www.moneycontrol.com/financials/godrejproperties/consolidated-ratiosVI/gp11#gp11',\n",
       "  'https://www.moneycontrol.com/financials/grasimindustries/consolidated-ratiosVI/GI01#GI01',\n",
       "  'https://www.moneycontrol.com/financials/gujaratgas/consolidated-ratiosVI/GGC#GGC',\n",
       "  'https://www.moneycontrol.com/financials/gujaratstatepetronet/consolidated-ratiosVI/GSP02#GSP02',\n",
       "  'https://www.moneycontrol.com/financials/hcltechnologies/consolidated-ratiosVI/HCL02#HCL02',\n",
       "  'https://www.moneycontrol.com/financials/hdfcassetmanagementcompany/consolidated-ratiosVI/HAM02#HAM02',\n",
       "  'https://www.moneycontrol.com/financials/hdfcbank/consolidated-ratiosVI/HDF01#HDF01',\n",
       "  'https://www.moneycontrol.com/financials/hdfclifeinsurancecompany/consolidated-ratiosVI/HSL01#HSL01',\n",
       "  'https://www.moneycontrol.com/financials/havellsindia/consolidated-ratiosVI/HI01#HI01',\n",
       "  'https://www.moneycontrol.com/financials/heromotocorp/consolidated-ratiosVI/HHM#HHM',\n",
       "  'https://www.moneycontrol.com/financials/hindalcoindustries/consolidated-ratiosVI/HI#HI',\n",
       "  'https://www.moneycontrol.com/financials/hindustanaeronauticsltd./consolidated-ratiosVI/HAL#HAL',\n",
       "  'https://www.moneycontrol.com/financials/hindustanpetroleumcorporation/consolidated-ratiosVI/HPC#HPC',\n",
       "  'https://www.moneycontrol.com/financials/hindustanunilever/consolidated-ratiosVI/HU#HU',\n",
       "  'https://www.moneycontrol.com/financials/hindustanzinc/consolidated-ratiosVI/HZ#HZ',\n",
       "  'https://www.moneycontrol.com/financials/honeywellautomation/consolidated-ratiosVI/HA04#HA04',\n",
       "  'https://www.moneycontrol.com/financials/housingdevelopmentfinancecorporation/consolidated-ratiosVI/HDF#HDF',\n",
       "  'https://www.moneycontrol.com/financials/icicibank/consolidated-ratiosVI/ICI02#ICI02',\n",
       "  'https://www.moneycontrol.com/financials/icicilombardgeneralinsurancecompany/consolidated-ratiosVI/ILG#ILG',\n",
       "  'https://www.moneycontrol.com/financials/iciciprudentiallifeinsurancecompany/consolidated-ratiosVI/IPL01#IPL01',\n",
       "  'https://www.moneycontrol.com/financials/icicisecuritiesltd./consolidated-ratiosVI/ISL04#ISL04',\n",
       "  'https://www.moneycontrol.com/financials/idfcfirstbank/consolidated-ratiosVI/IDF01#IDF01',\n",
       "  'https://www.moneycontrol.com/financials/itc/consolidated-ratiosVI/ITC#ITC',\n",
       "  'https://www.moneycontrol.com/financials/indiamartintermesh/consolidated-ratiosVI/II12#II12',\n",
       "  'https://www.moneycontrol.com/financials/indianbank/consolidated-ratiosVI/IB04#IB04',\n",
       "  'https://www.moneycontrol.com/financials/indianenergyexchange/consolidated-ratiosVI/IEE#IEE',\n",
       "  'https://www.moneycontrol.com/financials/indianhotelscompany/consolidated-ratiosVI/IHC#IHC',\n",
       "  'https://www.moneycontrol.com/financials/indianoilcorporation/consolidated-ratiosVI/IOC#IOC',\n",
       "  'https://www.moneycontrol.com/financials/irctc-indianrailwaycatering&tourismcorp/consolidated-ratiosVI/IRC#IRC',\n",
       "  'https://www.moneycontrol.com/financials/indraprasthagas/consolidated-ratiosVI/IG04#IG04',\n",
       "  'https://www.moneycontrol.com/financials/industowers/consolidated-ratiosVI/bi14#bi14',\n",
       "  'https://www.moneycontrol.com/financials/indusindbank/consolidated-ratiosVI/IIB#IIB',\n",
       "  'https://www.moneycontrol.com/financials/infoedgeindia/consolidated-ratiosVI/IEI01#IEI01',\n",
       "  'https://www.moneycontrol.com/financials/infosys/consolidated-ratiosVI/IT#IT',\n",
       "  'https://www.moneycontrol.com/financials/interglobeaviation/consolidated-ratiosVI/ia04#ia04']]"
      ]
     },
     "execution_count": 148,
     "metadata": {},
     "output_type": "execute_result"
    }
   ],
   "source": [
    "L"
   ]
  },
  {
   "cell_type": "code",
   "execution_count": null,
   "id": "4910ccd0",
   "metadata": {},
   "outputs": [],
   "source": [
    "# name = [\"SBI\",\"ACC\"]\n",
    "# L = []\n",
    "# count = 0\n",
    "# for i in name:\n",
    "#     driver.get(\"https://google.com/\")\n",
    "#     m = driver.find_element(by = \"xpath\",\n",
    "#                        value = \"/html/body/div[1]/div[3]/form/div[1]/div[1]/div[1]/div/div[2]/input\")\n",
    "#     default1 = \"moneycontrol \"\n",
    "#     company = i+\" \"\n",
    "#     default2 = \"financial ratios\"\n",
    "#     m.send_keys(default1+company+default2)\n",
    "#     time.sleep(2)\n",
    "#     m.send_keys(Keys.ENTER)\n",
    "#     mainlink = driver.find_element(By.TAG_NAME,'h3')\n",
    "#     mainlink.click()\n",
    "#     if count == 0:\n",
    "#         driver.find_element(by = \"xpath\",\n",
    "#                        value = \"//*[@id='wzrk-cancel']\").click()\n",
    "#     driver.find_element(by = \"xpath\",\n",
    "#                    value = \"//*[@id='#consolidated']\").click()\n",
    "#     count += 1\n",
    "#     L.append(driver.current_url)"
   ]
  },
  {
   "cell_type": "code",
   "execution_count": 41,
   "id": "df87756b",
   "metadata": {},
   "outputs": [],
   "source": [
    "from selenium.webdriver.common.action_chains import ActionChains"
   ]
  },
  {
   "cell_type": "code",
   "execution_count": 61,
   "id": "b1141109",
   "metadata": {},
   "outputs": [],
   "source": [
    "ActionChains(driver).key_down(Keys.CONTROL).send_keys('e').key_up(Keys.CONTROL).perform()\n"
   ]
  },
  {
   "cell_type": "code",
   "execution_count": null,
   "id": "96bc7a60",
   "metadata": {},
   "outputs": [],
   "source": [
    "driver."
   ]
  },
  {
   "cell_type": "code",
   "execution_count": 45,
   "id": "c6fedd4c",
   "metadata": {},
   "outputs": [
    {
     "name": "stdout",
     "output_type": "stream",
     "text": [
      "Welcome to Python.org\n"
     ]
    },
    {
     "ename": "AttributeError",
     "evalue": "'WebDriver' object has no attribute 'find_element_by_name'",
     "output_type": "error",
     "traceback": [
      "\u001b[1;31m---------------------------------------------------------------------------\u001b[0m",
      "\u001b[1;31mAttributeError\u001b[0m                            Traceback (most recent call last)",
      "Input \u001b[1;32mIn [45]\u001b[0m, in \u001b[0;36m<cell line: 3>\u001b[1;34m()\u001b[0m\n\u001b[0;32m      1\u001b[0m driver\u001b[38;5;241m.\u001b[39mget(\u001b[38;5;124m\"\u001b[39m\u001b[38;5;124mhttps://www.python.org\u001b[39m\u001b[38;5;124m\"\u001b[39m)\n\u001b[0;32m      2\u001b[0m \u001b[38;5;28mprint\u001b[39m(driver\u001b[38;5;241m.\u001b[39mtitle)\n\u001b[1;32m----> 3\u001b[0m search_bar \u001b[38;5;241m=\u001b[39m \u001b[43mdriver\u001b[49m\u001b[38;5;241;43m.\u001b[39;49m\u001b[43mfind_element_by_name\u001b[49m(\u001b[38;5;124m\"\u001b[39m\u001b[38;5;124mq\u001b[39m\u001b[38;5;124m\"\u001b[39m)\n\u001b[0;32m      4\u001b[0m search_bar\u001b[38;5;241m.\u001b[39mclear()\n\u001b[0;32m      5\u001b[0m search_bar\u001b[38;5;241m.\u001b[39msend_keys(\u001b[38;5;124m\"\u001b[39m\u001b[38;5;124mgetting started with python\u001b[39m\u001b[38;5;124m\"\u001b[39m)\n",
      "\u001b[1;31mAttributeError\u001b[0m: 'WebDriver' object has no attribute 'find_element_by_name'"
     ]
    }
   ],
   "source": [
    "driver.get(\"https://www.python.org\")\n",
    "print(driver.title)\n",
    "search_bar = driver.find_element_by_name(\"q\")\n",
    "search_bar.clear()\n",
    "search_bar.send_keys(\"getting started with python\")\n",
    "search_bar.send_keys(Keys.RETURN)\n",
    "print(driver.current_url)\n",
    "driver.close()"
   ]
  },
  {
   "cell_type": "code",
   "execution_count": null,
   "id": "5d4f6725",
   "metadata": {},
   "outputs": [],
   "source": []
  }
 ],
 "metadata": {
  "kernelspec": {
   "display_name": "Python 3 (ipykernel)",
   "language": "python",
   "name": "python3"
  },
  "language_info": {
   "codemirror_mode": {
    "name": "ipython",
    "version": 3
   },
   "file_extension": ".py",
   "mimetype": "text/x-python",
   "name": "python",
   "nbconvert_exporter": "python",
   "pygments_lexer": "ipython3",
   "version": "3.9.12"
  }
 },
 "nbformat": 4,
 "nbformat_minor": 5
}
