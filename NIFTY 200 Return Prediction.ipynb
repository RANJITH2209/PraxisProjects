{
 "cells": [
  {
   "cell_type": "code",
   "execution_count": 2,
   "id": "c926047a",
   "metadata": {},
   "outputs": [],
   "source": [
    "#pip install nsepy"
   ]
  },
  {
   "cell_type": "code",
   "execution_count": 123,
   "id": "63ff3c54",
   "metadata": {},
   "outputs": [],
   "source": [
    "from datetime import date\n",
    "import numpy as np\n",
    "import pandas as pd\n",
    "import nsepy\n",
    "import requests\n",
    "from bs4 import BeautifulSoup\n",
    "from matplotlib import pyplot as plt\n",
    "from sklearn.model_selection import train_test_split"
   ]
  },
  {
   "cell_type": "code",
   "execution_count": 7,
   "id": "8f8f8f9a",
   "metadata": {},
   "outputs": [],
   "source": [
    "#Reading URL data from csv\n",
    "#These data are collecting through selenium in different jupyter ntbook\n",
    "URLS = pd.read_csv(\"Links.csv\")"
   ]
  },
  {
   "cell_type": "code",
   "execution_count": 8,
   "id": "6f4ecd1a",
   "metadata": {},
   "outputs": [
    {
     "data": {
      "text/html": [
       "<div>\n",
       "<style scoped>\n",
       "    .dataframe tbody tr th:only-of-type {\n",
       "        vertical-align: middle;\n",
       "    }\n",
       "\n",
       "    .dataframe tbody tr th {\n",
       "        vertical-align: top;\n",
       "    }\n",
       "\n",
       "    .dataframe thead th {\n",
       "        text-align: right;\n",
       "    }\n",
       "</style>\n",
       "<table border=\"1\" class=\"dataframe\">\n",
       "  <thead>\n",
       "    <tr style=\"text-align: right;\">\n",
       "      <th></th>\n",
       "      <th>Company Name</th>\n",
       "      <th>Industry</th>\n",
       "      <th>Symbol</th>\n",
       "      <th>Series</th>\n",
       "      <th>ISIN Code</th>\n",
       "    </tr>\n",
       "  </thead>\n",
       "  <tbody>\n",
       "    <tr>\n",
       "      <th>0</th>\n",
       "      <td>ABB India Ltd.</td>\n",
       "      <td>Capital Goods</td>\n",
       "      <td>ABB</td>\n",
       "      <td>EQ</td>\n",
       "      <td>INE117A01022</td>\n",
       "    </tr>\n",
       "    <tr>\n",
       "      <th>1</th>\n",
       "      <td>ACC Ltd.</td>\n",
       "      <td>Construction Materials</td>\n",
       "      <td>ACC</td>\n",
       "      <td>EQ</td>\n",
       "      <td>INE012A01025</td>\n",
       "    </tr>\n",
       "    <tr>\n",
       "      <th>2</th>\n",
       "      <td>AU Small Finance Bank Ltd.</td>\n",
       "      <td>Financial Services</td>\n",
       "      <td>AUBANK</td>\n",
       "      <td>EQ</td>\n",
       "      <td>INE949L01017</td>\n",
       "    </tr>\n",
       "    <tr>\n",
       "      <th>3</th>\n",
       "      <td>Abbott India Ltd.</td>\n",
       "      <td>Healthcare</td>\n",
       "      <td>ABBOTINDIA</td>\n",
       "      <td>EQ</td>\n",
       "      <td>INE358A01014</td>\n",
       "    </tr>\n",
       "    <tr>\n",
       "      <th>4</th>\n",
       "      <td>Adani Enterprises Ltd.</td>\n",
       "      <td>Metals &amp; Mining</td>\n",
       "      <td>ADANIENT</td>\n",
       "      <td>EQ</td>\n",
       "      <td>INE423A01024</td>\n",
       "    </tr>\n",
       "  </tbody>\n",
       "</table>\n",
       "</div>"
      ],
      "text/plain": [
       "                 Company Name                Industry      Symbol Series  \\\n",
       "0              ABB India Ltd.           Capital Goods         ABB     EQ   \n",
       "1                    ACC Ltd.  Construction Materials         ACC     EQ   \n",
       "2  AU Small Finance Bank Ltd.      Financial Services      AUBANK     EQ   \n",
       "3           Abbott India Ltd.              Healthcare  ABBOTINDIA     EQ   \n",
       "4      Adani Enterprises Ltd.         Metals & Mining    ADANIENT     EQ   \n",
       "\n",
       "      ISIN Code  \n",
       "0  INE117A01022  \n",
       "1  INE012A01025  \n",
       "2  INE949L01017  \n",
       "3  INE358A01014  \n",
       "4  INE423A01024  "
      ]
     },
     "execution_count": 8,
     "metadata": {},
     "output_type": "execute_result"
    }
   ],
   "source": [
    "nifty200sym = pd.read_csv(\"ind_nifty200list.csv\")\n",
    "nifty200sym.head()"
   ]
  },
  {
   "cell_type": "code",
   "execution_count": 9,
   "id": "8fd3e735",
   "metadata": {},
   "outputs": [],
   "source": [
    "Index_Price = []\n",
    "Index_Symbol = \"NIFTY 200\"\n",
    "for i in [2022,2021,2020,2019,2018]:\n",
    "    count = 1\n",
    "    data = pd.DataFrame()\n",
    "    try:\n",
    "        while data.empty == True:\n",
    "            start = date(i,4,count)\n",
    "            end = date(i,4,count)\n",
    "            data = nsepy.get_history(symbol =Index_Symbol, start = start,end = end,index = True)\n",
    "            if data.empty == False:\n",
    "                Index_Price.append(data.Close[0])\n",
    "            count += 1\n",
    "    except:\n",
    "        Index_Price.append(0)\n"
   ]
  },
  {
   "cell_type": "code",
   "execution_count": 10,
   "id": "d9c8c043",
   "metadata": {},
   "outputs": [
    {
     "data": {
      "text/plain": [
       "[9324.35, 7772.85, 4275.7, 6102.6, 5565.9]"
      ]
     },
     "execution_count": 10,
     "metadata": {},
     "output_type": "execute_result"
    }
   ],
   "source": [
    "Index_Price"
   ]
  },
  {
   "cell_type": "code",
   "execution_count": 11,
   "id": "32f7a734",
   "metadata": {},
   "outputs": [],
   "source": [
    "Index_Return = {}\n",
    "for i in range(0,len(Index_Price)-1):\n",
    "    Year = 2022\n",
    "    Index_Return[Year-i]= round((Index_Price[i]-Index_Price[i+1])/Index_Price[i+1],4)\n"
   ]
  },
  {
   "cell_type": "code",
   "execution_count": 12,
   "id": "034105de",
   "metadata": {},
   "outputs": [
    {
     "data": {
      "text/plain": [
       "{2022: 0.1996, 2021: 0.8179, 2020: -0.2994, 2019: 0.0964}"
      ]
     },
     "execution_count": 12,
     "metadata": {},
     "output_type": "execute_result"
    }
   ],
   "source": [
    "Index_Return"
   ]
  },
  {
   "cell_type": "code",
   "execution_count": 13,
   "id": "35e1db97",
   "metadata": {},
   "outputs": [],
   "source": [
    "Index_Return[2018] = 0"
   ]
  },
  {
   "cell_type": "code",
   "execution_count": 14,
   "id": "ac43c11a",
   "metadata": {},
   "outputs": [
    {
     "data": {
      "text/plain": [
       "{2022: 0.1996, 2021: 0.8179, 2020: -0.2994, 2019: 0.0964, 2018: 0}"
      ]
     },
     "execution_count": 14,
     "metadata": {},
     "output_type": "execute_result"
    }
   ],
   "source": [
    "Index_Return"
   ]
  },
  {
   "cell_type": "code",
   "execution_count": 67,
   "id": "febdf52a",
   "metadata": {},
   "outputs": [],
   "source": [
    "#Finding table from the net and writing into the csv\n",
    "NotFound = []\n",
    "for company,URL in zip(URLS[\"Company Name\"],URLS[\"URL\"]):\n",
    "    try:\n",
    "        page = requests.get(URL)\n",
    "        soup = BeautifulSoup(page.text, \"lxml\")\n",
    "        table = soup.find('table',{'class':\"mctable1\"})\n",
    "        L = []\n",
    "        for row in table.find_all(\"tr\"):\n",
    "            data = row.find_all('td')\n",
    "            row_data = [td.text.strip() for td in data]\n",
    "            L.append(row_data)\n",
    "        df = pd.DataFrame(L)\n",
    "        header = df.loc[0]\n",
    "        df = df[2:]\n",
    "        df.columns = header\n",
    "        df  = df.rename(columns = {list(df)[0] : \"Ratio\"})\n",
    "        df.to_csv(company+\" Fin Ratio\"+\".csv\")\n",
    "    except:\n",
    "        NotFound.append(company)"
   ]
  },
  {
   "cell_type": "code",
   "execution_count": 64,
   "id": "3c839d5e",
   "metadata": {},
   "outputs": [],
   "source": [
    "#Renaming the dataframe columns\n",
    "No_data = []\n",
    "for Company in URLS[\"Company Name\"]:\n",
    "    L=[]\n",
    "    try:\n",
    "        company_name = Company+\" Fin Ratio.csv\"\n",
    "        df = pd.read_csv(company_name)\n",
    "    \n",
    "        for name in list(df):\n",
    "            if name == \"Ratio\":\n",
    "                L.append(name)\n",
    "            elif name.endswith(\"22\"):\n",
    "                L.append(\"2022\")\n",
    "            elif name.endswith(\"21\"):\n",
    "                L.append(\"2021\")\n",
    "            elif name.endswith(\"20\"):\n",
    "                L.append(\"2020\")\n",
    "            elif name.endswith(\"19\"):\n",
    "                L.append(\"2019\")\n",
    "            elif name.endswith(\"18\"):\n",
    "                L.append(\"2018\")\n",
    "            else:\n",
    "                L.append(name)\n",
    "        df.columns = L\n",
    "        df.to_csv(company_name)\n",
    "    except:\n",
    "        No_data.append(Company)"
   ]
  },
  {
   "cell_type": "code",
   "execution_count": 176,
   "id": "e967165d",
   "metadata": {},
   "outputs": [],
   "source": [
    "#Creating the company column and making crt format\n",
    "for Company in URLS[\"Company Name\"]:\n",
    "    try:\n",
    "        Columns = [\"Ratio\",\"2022\",\"2021\",\"2020\",\"2019\",\"2018\"]\n",
    "        company_name = Company+\" Fin Ratio.csv\"\n",
    "        df = pd.read_csv(company_name)\n",
    "        #df[\"Company\"] = Company\n",
    "        df1 =pd.DataFrame()\n",
    "        for i in list(df):\n",
    "            if i in Columns:\n",
    "                df1 = pd.concat([df1,df[i]],axis = 1)\n",
    "        df1 = df1.transpose()\n",
    "        df1.columns = df1.iloc[0]\n",
    "        df1 = df1[1:]\n",
    "        df1[\"Company\"] = Company\n",
    "        df1[\"Year\"] = df1.index\n",
    "        df1.to_csv(\"C:\\\\Users\\\\Balaji\\\\Praxis Projects\\\\Placements\\\\Nifty 200\\\\Updated\\\\\"+\"Final \"+company_name,index = False)\n",
    "    except:\n",
    "        continue"
   ]
  },
  {
   "cell_type": "code",
   "execution_count": 22,
   "id": "88e60dc5",
   "metadata": {},
   "outputs": [
    {
     "name": "stdout",
     "output_type": "stream",
     "text": [
      "ABB India Ltd.\n",
      "AU Small Finance Bank Ltd.\n",
      "Abbott India Ltd.\n"
     ]
    },
    {
     "name": "stderr",
     "output_type": "stream",
     "text": [
      "C:\\Users\\Balaji\\AppData\\Local\\Temp\\ipykernel_9972\\3497030877.py:60: RuntimeWarning: divide by zero encountered in double_scalars\n",
      "  Return.append(round((df1[\"Price\"][i]-df1[\"Price\"][i+1])/df1[\"Price\"][i+1],4))\n",
      "C:\\Users\\Balaji\\AppData\\Local\\Temp\\ipykernel_9972\\3497030877.py:60: RuntimeWarning: divide by zero encountered in double_scalars\n",
      "  Return.append(round((df1[\"Price\"][i]-df1[\"Price\"][i+1])/df1[\"Price\"][i+1],4))\n",
      "C:\\Users\\Balaji\\AppData\\Local\\Temp\\ipykernel_9972\\3497030877.py:60: RuntimeWarning: divide by zero encountered in double_scalars\n",
      "  Return.append(round((df1[\"Price\"][i]-df1[\"Price\"][i+1])/df1[\"Price\"][i+1],4))\n"
     ]
    },
    {
     "name": "stdout",
     "output_type": "stream",
     "text": [
      "Axis Bank Ltd.\n",
      "Bandhan Bank Ltd.\n",
      "Bank of Baroda\n",
      "Bank of India\n",
      "Canara Bank\n"
     ]
    },
    {
     "name": "stderr",
     "output_type": "stream",
     "text": [
      "C:\\Users\\Balaji\\AppData\\Local\\Temp\\ipykernel_9972\\3497030877.py:60: RuntimeWarning: divide by zero encountered in double_scalars\n",
      "  Return.append(round((df1[\"Price\"][i]-df1[\"Price\"][i+1])/df1[\"Price\"][i+1],4))\n"
     ]
    },
    {
     "name": "stdout",
     "output_type": "stream",
     "text": [
      "Colgate Palmolive (India) Ltd.\n"
     ]
    },
    {
     "name": "stderr",
     "output_type": "stream",
     "text": [
      "C:\\Users\\Balaji\\AppData\\Local\\Temp\\ipykernel_9972\\3497030877.py:40: RuntimeWarning: divide by zero encountered in double_scalars\n",
      "  Change.append(round((df1[important_column[3]][i]-df1[important_column[3]][i+1])/df1[important_column[3]][i+1],4))\n",
      "C:\\Users\\Balaji\\AppData\\Local\\Temp\\ipykernel_9972\\3497030877.py:60: RuntimeWarning: divide by zero encountered in double_scalars\n",
      "  Return.append(round((df1[\"Price\"][i]-df1[\"Price\"][i+1])/df1[\"Price\"][i+1],4))\n",
      "C:\\Users\\Balaji\\AppData\\Local\\Temp\\ipykernel_9972\\3497030877.py:60: RuntimeWarning: divide by zero encountered in double_scalars\n",
      "  Return.append(round((df1[\"Price\"][i]-df1[\"Price\"][i+1])/df1[\"Price\"][i+1],4))\n",
      "C:\\Users\\Balaji\\AppData\\Local\\Temp\\ipykernel_9972\\3497030877.py:60: RuntimeWarning: invalid value encountered in double_scalars\n",
      "  Return.append(round((df1[\"Price\"][i]-df1[\"Price\"][i+1])/df1[\"Price\"][i+1],4))\n"
     ]
    },
    {
     "name": "stdout",
     "output_type": "stream",
     "text": [
      "Federal Bank Ltd.\n"
     ]
    },
    {
     "name": "stderr",
     "output_type": "stream",
     "text": [
      "C:\\Users\\Balaji\\AppData\\Local\\Temp\\ipykernel_9972\\3497030877.py:60: RuntimeWarning: divide by zero encountered in double_scalars\n",
      "  Return.append(round((df1[\"Price\"][i]-df1[\"Price\"][i+1])/df1[\"Price\"][i+1],4))\n"
     ]
    },
    {
     "name": "stdout",
     "output_type": "stream",
     "text": [
      "HDFC Asset Management Company Ltd.\n",
      "HDFC Bank Ltd.\n",
      "Honeywell Automation India Ltd.\n",
      "ICICI Bank Ltd.\n",
      "ICICI Lombard General Insurance Company Ltd.\n",
      "IDFC First Bank Ltd.\n"
     ]
    },
    {
     "name": "stderr",
     "output_type": "stream",
     "text": [
      "C:\\Users\\Balaji\\AppData\\Local\\Temp\\ipykernel_9972\\3497030877.py:60: RuntimeWarning: divide by zero encountered in double_scalars\n",
      "  Return.append(round((df1[\"Price\"][i]-df1[\"Price\"][i+1])/df1[\"Price\"][i+1],4))\n",
      "C:\\Users\\Balaji\\AppData\\Local\\Temp\\ipykernel_9972\\3497030877.py:60: RuntimeWarning: invalid value encountered in double_scalars\n",
      "  Return.append(round((df1[\"Price\"][i]-df1[\"Price\"][i+1])/df1[\"Price\"][i+1],4))\n"
     ]
    },
    {
     "name": "stdout",
     "output_type": "stream",
     "text": [
      "Indian Bank\n",
      "Indian Railway Catering And Tourism Corporation Ltd.\n",
      "IndusInd Bank Ltd.\n",
      "Ipca Laboratories Ltd.\n",
      "Kotak Mahindra Bank Ltd.\n"
     ]
    },
    {
     "name": "stderr",
     "output_type": "stream",
     "text": [
      "C:\\Users\\Balaji\\AppData\\Local\\Temp\\ipykernel_9972\\3497030877.py:60: RuntimeWarning: invalid value encountered in longlong_scalars\n",
      "  Return.append(round((df1[\"Price\"][i]-df1[\"Price\"][i+1])/df1[\"Price\"][i+1],4))\n",
      "C:\\Users\\Balaji\\AppData\\Local\\Temp\\ipykernel_9972\\3497030877.py:60: RuntimeWarning: invalid value encountered in longlong_scalars\n",
      "  Return.append(round((df1[\"Price\"][i]-df1[\"Price\"][i+1])/df1[\"Price\"][i+1],4))\n",
      "C:\\Users\\Balaji\\AppData\\Local\\Temp\\ipykernel_9972\\3497030877.py:60: RuntimeWarning: divide by zero encountered in double_scalars\n",
      "  Return.append(round((df1[\"Price\"][i]-df1[\"Price\"][i+1])/df1[\"Price\"][i+1],4))\n"
     ]
    },
    {
     "name": "stdout",
     "output_type": "stream",
     "text": [
      "Motherson Sumi Wiring India Ltd.\n",
      "Nestle India Ltd.\n"
     ]
    },
    {
     "name": "stderr",
     "output_type": "stream",
     "text": [
      "C:\\Users\\Balaji\\AppData\\Local\\Temp\\ipykernel_9972\\3497030877.py:60: RuntimeWarning: divide by zero encountered in double_scalars\n",
      "  Return.append(round((df1[\"Price\"][i]-df1[\"Price\"][i+1])/df1[\"Price\"][i+1],4))\n",
      "C:\\Users\\Balaji\\AppData\\Local\\Temp\\ipykernel_9972\\3497030877.py:60: RuntimeWarning: invalid value encountered in double_scalars\n",
      "  Return.append(round((df1[\"Price\"][i]-df1[\"Price\"][i+1])/df1[\"Price\"][i+1],4))\n"
     ]
    },
    {
     "name": "stdout",
     "output_type": "stream",
     "text": [
      "Page Industries Ltd.\n"
     ]
    },
    {
     "name": "stderr",
     "output_type": "stream",
     "text": [
      "C:\\Users\\Balaji\\AppData\\Local\\Temp\\ipykernel_9972\\3497030877.py:60: RuntimeWarning: invalid value encountered in longlong_scalars\n",
      "  Return.append(round((df1[\"Price\"][i]-df1[\"Price\"][i+1])/df1[\"Price\"][i+1],4))\n",
      "C:\\Users\\Balaji\\AppData\\Local\\Temp\\ipykernel_9972\\3497030877.py:60: RuntimeWarning: divide by zero encountered in double_scalars\n",
      "  Return.append(round((df1[\"Price\"][i]-df1[\"Price\"][i+1])/df1[\"Price\"][i+1],4))\n"
     ]
    },
    {
     "name": "stdout",
     "output_type": "stream",
     "text": [
      "Procter & Gamble Hygiene & Health Care Ltd.\n",
      "Punjab National Bank\n",
      "SBI Cards and Payment Services Ltd.\n",
      "SBI Life Insurance Company Ltd.\n"
     ]
    },
    {
     "name": "stderr",
     "output_type": "stream",
     "text": [
      "C:\\Users\\Balaji\\AppData\\Local\\Temp\\ipykernel_9972\\3497030877.py:60: RuntimeWarning: divide by zero encountered in double_scalars\n",
      "  Return.append(round((df1[\"Price\"][i]-df1[\"Price\"][i+1])/df1[\"Price\"][i+1],4))\n",
      "C:\\Users\\Balaji\\AppData\\Local\\Temp\\ipykernel_9972\\3497030877.py:60: RuntimeWarning: invalid value encountered in double_scalars\n",
      "  Return.append(round((df1[\"Price\"][i]-df1[\"Price\"][i+1])/df1[\"Price\"][i+1],4))\n"
     ]
    },
    {
     "name": "stdout",
     "output_type": "stream",
     "text": [
      "State Bank of India\n",
      "Tata Elxsi Ltd.\n",
      "Tata Teleservices (Maharashtra) Ltd.\n",
      "Union Bank of India\n",
      "Yes Bank Ltd.\n"
     ]
    },
    {
     "name": "stderr",
     "output_type": "stream",
     "text": [
      "C:\\Users\\Balaji\\AppData\\Local\\Temp\\ipykernel_9972\\3497030877.py:60: RuntimeWarning: divide by zero encountered in double_scalars\n",
      "  Return.append(round((df1[\"Price\"][i]-df1[\"Price\"][i+1])/df1[\"Price\"][i+1],4))\n",
      "C:\\Users\\Balaji\\AppData\\Local\\Temp\\ipykernel_9972\\3497030877.py:60: RuntimeWarning: invalid value encountered in double_scalars\n",
      "  Return.append(round((df1[\"Price\"][i]-df1[\"Price\"][i+1])/df1[\"Price\"][i+1],4))\n"
     ]
    }
   ],
   "source": [
    "#Creating the company column and making crt format\n",
    "Stock_Performance_data = pd.DataFrame()\n",
    "for Company,Symbol in zip(nifty200sym[\"Company Name\"],nifty200sym[\"Symbol\"]):\n",
    "    try:\n",
    "        Columns = [\"Ratio\",\"2022\",\"2021\",\"2020\",\"2019\",\"2018\"]\n",
    "        important_column = [\"Year\",\n",
    "                    \"Company\",\n",
    "                    \"Basic EPS (Rs.)\",\n",
    "                   \"Revenue from Operations/Share (Rs.)\",\n",
    "                   \"PBDIT Margin (%)\",\n",
    "                   \"Return on Networth/Equity (%)\",\n",
    "                   \"Total Debt/Equity (X)\",\n",
    "                   \"Current Ratio (X)\",\n",
    "                   \"Price/BV (X)\",\n",
    "                   \"Earnings Yield\"]\n",
    "        company_name = Company+\" Fin Ratio.csv\"\n",
    "        df = pd.read_csv(company_name)\n",
    "        #df[\"Company\"] = Company\n",
    "        df1 =pd.DataFrame()\n",
    "        for i in list(df):\n",
    "            if i in Columns:\n",
    "                df1 = pd.concat([df1,df[i]],axis = 1)\n",
    "        df1 = df1.transpose()\n",
    "        df1.columns = df1.iloc[0]\n",
    "        df1 = df1[1:]\n",
    "        df1[\"Company\"] = Company\n",
    "        df1[\"Year\"] = df1.index\n",
    "        df1 = df1[important_column]\n",
    "        for i in list(df1):\n",
    "            if i != \"Company\":\n",
    "                try:\n",
    "                    df1[i] = pd.to_numeric(df1[i])\n",
    "                except:\n",
    "                    df1[i] = df1[i].str.replace(\",\",\"\")\n",
    "                    df1[i] = pd.to_numeric(df1[i])\n",
    "            else:\n",
    "                continue        \n",
    "        Change = []\n",
    "        for i in range(0,len(df1[important_column[3]])-1):\n",
    "            Change.append(round((df1[important_column[3]][i]-df1[important_column[3]][i+1])/df1[important_column[3]][i+1],4))\n",
    "        Change.append(0)\n",
    "        df1[\"Percentage change in revenue\"] = Change\n",
    "        Stock_Price = []\n",
    "        for i in df1[\"Year\"]:\n",
    "            count = 1\n",
    "            data = pd.DataFrame()\n",
    "            try:\n",
    "                while data.empty == True:\n",
    "                    start = date(i,4,count)\n",
    "                    end = date(i,4,count)\n",
    "                    data = nsepy.get_history(symbol = Symbol, start = start,end = end)\n",
    "                    if data.empty == False:\n",
    "                        Stock_Price.append(data.VWAP[0])\n",
    "                    count += 1\n",
    "            except:\n",
    "                Stock_Price.append(0)\n",
    "        df1[\"Price\"] = Stock_Price\n",
    "        Return = []\n",
    "        for i in range(0,len(df1[important_column[0]])-1):\n",
    "            Return.append(round((df1[\"Price\"][i]-df1[\"Price\"][i+1])/df1[\"Price\"][i+1],4))\n",
    "        Return.append(0)\n",
    "        df1[\"Return\"] = Return\n",
    "        TypeOfCompany = []\n",
    "        for i in df1[\"Year\"]:\n",
    "            if df1.loc[df1[\"Year\"] == i][\"Return\"][0] > Index_Return[i]:\n",
    "                TypeOfCompany.append(1)\n",
    "            elif df1.loc[df1[\"Year\"] == i][\"Return\"][0] < Index_Return[i]:\n",
    "                TypeOfCompany.append(0)\n",
    "            else:\n",
    "                TypeOfCompany.append(\"NA\")\n",
    "        df1[\"Performance\"] = TypeOfCompany\n",
    "        df1[\"Percentage change in revenue\"] = Change\n",
    "        df1[\"PE Ratio\"] = df1[\"Price\"]/df1[\"Basic EPS (Rs.)\"]\n",
    "        Stock_Performance_data = pd.concat([Stock_Performance_data,df1],ignore_index=True,axis=0)\n",
    "        df1.to_csv(\"C:\\\\Users\\\\Balaji\\\\Praxis Projects\\\\Placements\\\\Nifty 200\\\\Updated\\\\\"+\"Final \"+company_name,index = False)\n",
    "    except :\n",
    "        print(Company)"
   ]
  },
  {
   "cell_type": "code",
   "execution_count": 32,
   "id": "a1c4959d",
   "metadata": {},
   "outputs": [],
   "source": [
    "Stock_Performance_data.to_csv(\"C:\\\\Users\\\\Balaji\\\\Praxis Projects\\\\Placements\\\\Nifty 200\\\\Stock_Performance_data.csv\",index = False)"
   ]
  },
  {
   "cell_type": "code",
   "execution_count": 33,
   "id": "19c8785d",
   "metadata": {},
   "outputs": [],
   "source": [
    "Stock_data = pd.read_csv(\"C:\\\\Users\\\\Balaji\\\\Praxis Projects\\\\Placements\\\\Nifty 200\\\\Stock_Performance_data.csv\")"
   ]
  },
  {
   "cell_type": "code",
   "execution_count": 23,
   "id": "accc479a",
   "metadata": {},
   "outputs": [
    {
     "data": {
      "text/html": [
       "<div>\n",
       "<style scoped>\n",
       "    .dataframe tbody tr th:only-of-type {\n",
       "        vertical-align: middle;\n",
       "    }\n",
       "\n",
       "    .dataframe tbody tr th {\n",
       "        vertical-align: top;\n",
       "    }\n",
       "\n",
       "    .dataframe thead th {\n",
       "        text-align: right;\n",
       "    }\n",
       "</style>\n",
       "<table border=\"1\" class=\"dataframe\">\n",
       "  <thead>\n",
       "    <tr style=\"text-align: right;\">\n",
       "      <th>Ratio</th>\n",
       "      <th>Year</th>\n",
       "      <th>Company</th>\n",
       "      <th>Basic EPS (Rs.)</th>\n",
       "      <th>Revenue from Operations/Share (Rs.)</th>\n",
       "      <th>PBDIT Margin (%)</th>\n",
       "      <th>Return on Networth/Equity (%)</th>\n",
       "      <th>Total Debt/Equity (X)</th>\n",
       "      <th>Current Ratio (X)</th>\n",
       "      <th>Price/BV (X)</th>\n",
       "      <th>Earnings Yield</th>\n",
       "      <th>Percentage change in revenue</th>\n",
       "      <th>Price</th>\n",
       "      <th>Return</th>\n",
       "      <th>Performance</th>\n",
       "      <th>PE Ratio</th>\n",
       "    </tr>\n",
       "  </thead>\n",
       "  <tbody>\n",
       "    <tr>\n",
       "      <th>0</th>\n",
       "      <td>2021</td>\n",
       "      <td>ACC Ltd.</td>\n",
       "      <td>99.21</td>\n",
       "      <td>859.18</td>\n",
       "      <td>19.84</td>\n",
       "      <td>13.01</td>\n",
       "      <td>0.00</td>\n",
       "      <td>1.73</td>\n",
       "      <td>2.91</td>\n",
       "      <td>0.04</td>\n",
       "      <td>0.1716</td>\n",
       "      <td>1905.67</td>\n",
       "      <td>0.9836</td>\n",
       "      <td>1</td>\n",
       "      <td>19.208447</td>\n",
       "    </tr>\n",
       "    <tr>\n",
       "      <th>1</th>\n",
       "      <td>2020</td>\n",
       "      <td>ACC Ltd.</td>\n",
       "      <td>76.16</td>\n",
       "      <td>733.34</td>\n",
       "      <td>18.65</td>\n",
       "      <td>11.26</td>\n",
       "      <td>0.00</td>\n",
       "      <td>1.76</td>\n",
       "      <td>2.40</td>\n",
       "      <td>0.05</td>\n",
       "      <td>-0.1195</td>\n",
       "      <td>960.72</td>\n",
       "      <td>-0.4289</td>\n",
       "      <td>0</td>\n",
       "      <td>12.614496</td>\n",
       "    </tr>\n",
       "    <tr>\n",
       "      <th>2</th>\n",
       "      <td>2019</td>\n",
       "      <td>ACC Ltd.</td>\n",
       "      <td>73.35</td>\n",
       "      <td>832.89</td>\n",
       "      <td>17.44</td>\n",
       "      <td>11.93</td>\n",
       "      <td>0.00</td>\n",
       "      <td>1.60</td>\n",
       "      <td>2.35</td>\n",
       "      <td>0.05</td>\n",
       "      <td>0.0578</td>\n",
       "      <td>1682.10</td>\n",
       "      <td>0.1006</td>\n",
       "      <td>1</td>\n",
       "      <td>22.932515</td>\n",
       "    </tr>\n",
       "    <tr>\n",
       "      <th>3</th>\n",
       "      <td>2018</td>\n",
       "      <td>ACC Ltd.</td>\n",
       "      <td>80.97</td>\n",
       "      <td>787.36</td>\n",
       "      <td>14.80</td>\n",
       "      <td>14.43</td>\n",
       "      <td>0.00</td>\n",
       "      <td>1.42</td>\n",
       "      <td>2.69</td>\n",
       "      <td>0.05</td>\n",
       "      <td>0.0000</td>\n",
       "      <td>1528.38</td>\n",
       "      <td>0.0000</td>\n",
       "      <td>NA</td>\n",
       "      <td>18.875880</td>\n",
       "    </tr>\n",
       "    <tr>\n",
       "      <th>4</th>\n",
       "      <td>2022</td>\n",
       "      <td>Adani Enterprises Ltd.</td>\n",
       "      <td>7.06</td>\n",
       "      <td>631.21</td>\n",
       "      <td>6.80</td>\n",
       "      <td>3.59</td>\n",
       "      <td>1.90</td>\n",
       "      <td>0.71</td>\n",
       "      <td>10.26</td>\n",
       "      <td>0.00</td>\n",
       "      <td>0.7558</td>\n",
       "      <td>2033.05</td>\n",
       "      <td>0.8789</td>\n",
       "      <td>1</td>\n",
       "      <td>287.967422</td>\n",
       "    </tr>\n",
       "    <tr>\n",
       "      <th>...</th>\n",
       "      <td>...</td>\n",
       "      <td>...</td>\n",
       "      <td>...</td>\n",
       "      <td>...</td>\n",
       "      <td>...</td>\n",
       "      <td>...</td>\n",
       "      <td>...</td>\n",
       "      <td>...</td>\n",
       "      <td>...</td>\n",
       "      <td>...</td>\n",
       "      <td>...</td>\n",
       "      <td>...</td>\n",
       "      <td>...</td>\n",
       "      <td>...</td>\n",
       "      <td>...</td>\n",
       "    </tr>\n",
       "    <tr>\n",
       "      <th>792</th>\n",
       "      <td>2022</td>\n",
       "      <td>Zydus Lifesciences Ltd.</td>\n",
       "      <td>43.83</td>\n",
       "      <td>149.07</td>\n",
       "      <td>23.35</td>\n",
       "      <td>26.39</td>\n",
       "      <td>0.25</td>\n",
       "      <td>1.56</td>\n",
       "      <td>2.10</td>\n",
       "      <td>0.13</td>\n",
       "      <td>0.0598</td>\n",
       "      <td>351.69</td>\n",
       "      <td>-0.2056</td>\n",
       "      <td>0</td>\n",
       "      <td>8.023956</td>\n",
       "    </tr>\n",
       "    <tr>\n",
       "      <th>793</th>\n",
       "      <td>2021</td>\n",
       "      <td>Zydus Lifesciences Ltd.</td>\n",
       "      <td>20.84</td>\n",
       "      <td>140.66</td>\n",
       "      <td>23.83</td>\n",
       "      <td>16.42</td>\n",
       "      <td>0.35</td>\n",
       "      <td>1.11</td>\n",
       "      <td>3.47</td>\n",
       "      <td>0.05</td>\n",
       "      <td>0.0106</td>\n",
       "      <td>442.73</td>\n",
       "      <td>0.6479</td>\n",
       "      <td>0</td>\n",
       "      <td>21.244242</td>\n",
       "    </tr>\n",
       "    <tr>\n",
       "      <th>794</th>\n",
       "      <td>2020</td>\n",
       "      <td>Zydus Lifesciences Ltd.</td>\n",
       "      <td>11.49</td>\n",
       "      <td>139.19</td>\n",
       "      <td>20.32</td>\n",
       "      <td>11.33</td>\n",
       "      <td>0.68</td>\n",
       "      <td>1.05</td>\n",
       "      <td>2.64</td>\n",
       "      <td>0.04</td>\n",
       "      <td>0.0826</td>\n",
       "      <td>268.67</td>\n",
       "      <td>-0.2273</td>\n",
       "      <td>1</td>\n",
       "      <td>23.382942</td>\n",
       "    </tr>\n",
       "    <tr>\n",
       "      <th>795</th>\n",
       "      <td>2019</td>\n",
       "      <td>Zydus Lifesciences Ltd.</td>\n",
       "      <td>18.06</td>\n",
       "      <td>128.57</td>\n",
       "      <td>24.18</td>\n",
       "      <td>17.80</td>\n",
       "      <td>0.69</td>\n",
       "      <td>1.16</td>\n",
       "      <td>3.42</td>\n",
       "      <td>0.05</td>\n",
       "      <td>0.1059</td>\n",
       "      <td>347.70</td>\n",
       "      <td>-0.0974</td>\n",
       "      <td>0</td>\n",
       "      <td>19.252492</td>\n",
       "    </tr>\n",
       "    <tr>\n",
       "      <th>796</th>\n",
       "      <td>2018</td>\n",
       "      <td>Zydus Lifesciences Ltd.</td>\n",
       "      <td>17.35</td>\n",
       "      <td>116.26</td>\n",
       "      <td>24.86</td>\n",
       "      <td>20.30</td>\n",
       "      <td>0.58</td>\n",
       "      <td>1.35</td>\n",
       "      <td>4.43</td>\n",
       "      <td>0.05</td>\n",
       "      <td>0.0000</td>\n",
       "      <td>385.22</td>\n",
       "      <td>0.0000</td>\n",
       "      <td>NA</td>\n",
       "      <td>22.202882</td>\n",
       "    </tr>\n",
       "  </tbody>\n",
       "</table>\n",
       "<p>797 rows × 15 columns</p>\n",
       "</div>"
      ],
      "text/plain": [
       "Ratio  Year                  Company  Basic EPS (Rs.)  \\\n",
       "0      2021                 ACC Ltd.            99.21   \n",
       "1      2020                 ACC Ltd.            76.16   \n",
       "2      2019                 ACC Ltd.            73.35   \n",
       "3      2018                 ACC Ltd.            80.97   \n",
       "4      2022   Adani Enterprises Ltd.             7.06   \n",
       "..      ...                      ...              ...   \n",
       "792    2022  Zydus Lifesciences Ltd.            43.83   \n",
       "793    2021  Zydus Lifesciences Ltd.            20.84   \n",
       "794    2020  Zydus Lifesciences Ltd.            11.49   \n",
       "795    2019  Zydus Lifesciences Ltd.            18.06   \n",
       "796    2018  Zydus Lifesciences Ltd.            17.35   \n",
       "\n",
       "Ratio  Revenue from Operations/Share (Rs.)  PBDIT Margin (%)  \\\n",
       "0                                   859.18             19.84   \n",
       "1                                   733.34             18.65   \n",
       "2                                   832.89             17.44   \n",
       "3                                   787.36             14.80   \n",
       "4                                   631.21              6.80   \n",
       "..                                     ...               ...   \n",
       "792                                 149.07             23.35   \n",
       "793                                 140.66             23.83   \n",
       "794                                 139.19             20.32   \n",
       "795                                 128.57             24.18   \n",
       "796                                 116.26             24.86   \n",
       "\n",
       "Ratio  Return on Networth/Equity (%)  Total Debt/Equity (X)  \\\n",
       "0                              13.01                   0.00   \n",
       "1                              11.26                   0.00   \n",
       "2                              11.93                   0.00   \n",
       "3                              14.43                   0.00   \n",
       "4                               3.59                   1.90   \n",
       "..                               ...                    ...   \n",
       "792                            26.39                   0.25   \n",
       "793                            16.42                   0.35   \n",
       "794                            11.33                   0.68   \n",
       "795                            17.80                   0.69   \n",
       "796                            20.30                   0.58   \n",
       "\n",
       "Ratio  Current Ratio (X)  Price/BV (X)  Earnings Yield  \\\n",
       "0                   1.73          2.91            0.04   \n",
       "1                   1.76          2.40            0.05   \n",
       "2                   1.60          2.35            0.05   \n",
       "3                   1.42          2.69            0.05   \n",
       "4                   0.71         10.26            0.00   \n",
       "..                   ...           ...             ...   \n",
       "792                 1.56          2.10            0.13   \n",
       "793                 1.11          3.47            0.05   \n",
       "794                 1.05          2.64            0.04   \n",
       "795                 1.16          3.42            0.05   \n",
       "796                 1.35          4.43            0.05   \n",
       "\n",
       "Ratio  Percentage change in revenue    Price  Return Performance    PE Ratio  \n",
       "0                            0.1716  1905.67  0.9836           1   19.208447  \n",
       "1                           -0.1195   960.72 -0.4289           0   12.614496  \n",
       "2                            0.0578  1682.10  0.1006           1   22.932515  \n",
       "3                            0.0000  1528.38  0.0000          NA   18.875880  \n",
       "4                            0.7558  2033.05  0.8789           1  287.967422  \n",
       "..                              ...      ...     ...         ...         ...  \n",
       "792                          0.0598   351.69 -0.2056           0    8.023956  \n",
       "793                          0.0106   442.73  0.6479           0   21.244242  \n",
       "794                          0.0826   268.67 -0.2273           1   23.382942  \n",
       "795                          0.1059   347.70 -0.0974           0   19.252492  \n",
       "796                          0.0000   385.22  0.0000          NA   22.202882  \n",
       "\n",
       "[797 rows x 15 columns]"
      ]
     },
     "execution_count": 23,
     "metadata": {},
     "output_type": "execute_result"
    }
   ],
   "source": [
    "Stock_Performance_data"
   ]
  },
  {
   "cell_type": "code",
   "execution_count": 34,
   "id": "3ac84929",
   "metadata": {},
   "outputs": [
    {
     "data": {
      "text/html": [
       "<div>\n",
       "<style scoped>\n",
       "    .dataframe tbody tr th:only-of-type {\n",
       "        vertical-align: middle;\n",
       "    }\n",
       "\n",
       "    .dataframe tbody tr th {\n",
       "        vertical-align: top;\n",
       "    }\n",
       "\n",
       "    .dataframe thead th {\n",
       "        text-align: right;\n",
       "    }\n",
       "</style>\n",
       "<table border=\"1\" class=\"dataframe\">\n",
       "  <thead>\n",
       "    <tr style=\"text-align: right;\">\n",
       "      <th></th>\n",
       "      <th>Year</th>\n",
       "      <th>Basic EPS (Rs.)</th>\n",
       "      <th>Revenue from Operations/Share (Rs.)</th>\n",
       "      <th>PBDIT Margin (%)</th>\n",
       "      <th>Return on Networth/Equity (%)</th>\n",
       "      <th>Total Debt/Equity (X)</th>\n",
       "      <th>Current Ratio (X)</th>\n",
       "      <th>Price/BV (X)</th>\n",
       "      <th>Earnings Yield</th>\n",
       "      <th>Percentage change in revenue</th>\n",
       "      <th>Price</th>\n",
       "      <th>Return</th>\n",
       "      <th>Performance</th>\n",
       "      <th>PE Ratio</th>\n",
       "    </tr>\n",
       "  </thead>\n",
       "  <tbody>\n",
       "    <tr>\n",
       "      <th>count</th>\n",
       "      <td>797.000000</td>\n",
       "      <td>797.000000</td>\n",
       "      <td>796.000000</td>\n",
       "      <td>797.000000</td>\n",
       "      <td>797.000000</td>\n",
       "      <td>797.000000</td>\n",
       "      <td>797.000000</td>\n",
       "      <td>797.000000</td>\n",
       "      <td>797.000000</td>\n",
       "      <td>796.000000</td>\n",
       "      <td>797.000000</td>\n",
       "      <td>780.000000</td>\n",
       "      <td>626.000000</td>\n",
       "      <td>797.000000</td>\n",
       "    </tr>\n",
       "    <tr>\n",
       "      <th>mean</th>\n",
       "      <td>2020.022585</td>\n",
       "      <td>-67.123325</td>\n",
       "      <td>1589.148731</td>\n",
       "      <td>26.955232</td>\n",
       "      <td>7.564504</td>\n",
       "      <td>1.109737</td>\n",
       "      <td>7.878934</td>\n",
       "      <td>7.207854</td>\n",
       "      <td>0.018507</td>\n",
       "      <td>inf</td>\n",
       "      <td>1756.275307</td>\n",
       "      <td>inf</td>\n",
       "      <td>0.482428</td>\n",
       "      <td>36.556965</td>\n",
       "    </tr>\n",
       "    <tr>\n",
       "      <th>std</th>\n",
       "      <td>1.409584</td>\n",
       "      <td>3255.967135</td>\n",
       "      <td>10800.625236</td>\n",
       "      <td>22.928845</td>\n",
       "      <td>206.304064</td>\n",
       "      <td>4.507842</td>\n",
       "      <td>82.014506</td>\n",
       "      <td>26.722064</td>\n",
       "      <td>0.499117</td>\n",
       "      <td>NaN</td>\n",
       "      <td>5942.932584</td>\n",
       "      <td>NaN</td>\n",
       "      <td>0.500091</td>\n",
       "      <td>108.773578</td>\n",
       "    </tr>\n",
       "    <tr>\n",
       "      <th>min</th>\n",
       "      <td>2018.000000</td>\n",
       "      <td>-91449.000000</td>\n",
       "      <td>0.000000</td>\n",
       "      <td>-160.980000</td>\n",
       "      <td>-5530.980000</td>\n",
       "      <td>-50.410000</td>\n",
       "      <td>0.170000</td>\n",
       "      <td>-96.310000</td>\n",
       "      <td>-10.900000</td>\n",
       "      <td>-0.999900</td>\n",
       "      <td>0.000000</td>\n",
       "      <td>-1.000000</td>\n",
       "      <td>0.000000</td>\n",
       "      <td>-253.415254</td>\n",
       "    </tr>\n",
       "    <tr>\n",
       "      <th>25%</th>\n",
       "      <td>2019.000000</td>\n",
       "      <td>8.170000</td>\n",
       "      <td>100.480000</td>\n",
       "      <td>15.170000</td>\n",
       "      <td>9.410000</td>\n",
       "      <td>0.010000</td>\n",
       "      <td>1.040000</td>\n",
       "      <td>1.840000</td>\n",
       "      <td>0.020000</td>\n",
       "      <td>0.000000</td>\n",
       "      <td>229.210000</td>\n",
       "      <td>-0.081275</td>\n",
       "      <td>0.000000</td>\n",
       "      <td>10.660473</td>\n",
       "    </tr>\n",
       "    <tr>\n",
       "      <th>50%</th>\n",
       "      <td>2020.000000</td>\n",
       "      <td>20.400000</td>\n",
       "      <td>228.580000</td>\n",
       "      <td>22.090000</td>\n",
       "      <td>15.950000</td>\n",
       "      <td>0.220000</td>\n",
       "      <td>1.560000</td>\n",
       "      <td>3.700000</td>\n",
       "      <td>0.030000</td>\n",
       "      <td>0.034350</td>\n",
       "      <td>568.960000</td>\n",
       "      <td>0.000000</td>\n",
       "      <td>0.000000</td>\n",
       "      <td>23.804243</td>\n",
       "    </tr>\n",
       "    <tr>\n",
       "      <th>75%</th>\n",
       "      <td>2021.000000</td>\n",
       "      <td>50.820000</td>\n",
       "      <td>505.537500</td>\n",
       "      <td>31.690000</td>\n",
       "      <td>21.340000</td>\n",
       "      <td>0.950000</td>\n",
       "      <td>2.460000</td>\n",
       "      <td>7.060000</td>\n",
       "      <td>0.060000</td>\n",
       "      <td>0.173575</td>\n",
       "      <td>1421.520000</td>\n",
       "      <td>0.428750</td>\n",
       "      <td>1.000000</td>\n",
       "      <td>45.453358</td>\n",
       "    </tr>\n",
       "    <tr>\n",
       "      <th>max</th>\n",
       "      <td>2022.000000</td>\n",
       "      <td>3354.200000</td>\n",
       "      <td>202972.970000</td>\n",
       "      <td>96.950000</td>\n",
       "      <td>1083.170000</td>\n",
       "      <td>84.890000</td>\n",
       "      <td>2109.360000</td>\n",
       "      <td>599.540000</td>\n",
       "      <td>1.230000</td>\n",
       "      <td>inf</td>\n",
       "      <td>82794.360000</td>\n",
       "      <td>inf</td>\n",
       "      <td>1.000000</td>\n",
       "      <td>1943.704545</td>\n",
       "    </tr>\n",
       "  </tbody>\n",
       "</table>\n",
       "</div>"
      ],
      "text/plain": [
       "              Year  Basic EPS (Rs.)  Revenue from Operations/Share (Rs.)  \\\n",
       "count   797.000000       797.000000                           796.000000   \n",
       "mean   2020.022585       -67.123325                          1589.148731   \n",
       "std       1.409584      3255.967135                         10800.625236   \n",
       "min    2018.000000    -91449.000000                             0.000000   \n",
       "25%    2019.000000         8.170000                           100.480000   \n",
       "50%    2020.000000        20.400000                           228.580000   \n",
       "75%    2021.000000        50.820000                           505.537500   \n",
       "max    2022.000000      3354.200000                        202972.970000   \n",
       "\n",
       "       PBDIT Margin (%)  Return on Networth/Equity (%)  Total Debt/Equity (X)  \\\n",
       "count        797.000000                     797.000000             797.000000   \n",
       "mean          26.955232                       7.564504               1.109737   \n",
       "std           22.928845                     206.304064               4.507842   \n",
       "min         -160.980000                   -5530.980000             -50.410000   \n",
       "25%           15.170000                       9.410000               0.010000   \n",
       "50%           22.090000                      15.950000               0.220000   \n",
       "75%           31.690000                      21.340000               0.950000   \n",
       "max           96.950000                    1083.170000              84.890000   \n",
       "\n",
       "       Current Ratio (X)  Price/BV (X)  Earnings Yield  \\\n",
       "count         797.000000    797.000000      797.000000   \n",
       "mean            7.878934      7.207854        0.018507   \n",
       "std            82.014506     26.722064        0.499117   \n",
       "min             0.170000    -96.310000      -10.900000   \n",
       "25%             1.040000      1.840000        0.020000   \n",
       "50%             1.560000      3.700000        0.030000   \n",
       "75%             2.460000      7.060000        0.060000   \n",
       "max          2109.360000    599.540000        1.230000   \n",
       "\n",
       "       Percentage change in revenue         Price      Return  Performance  \\\n",
       "count                    796.000000    797.000000  780.000000   626.000000   \n",
       "mean                            inf   1756.275307         inf     0.482428   \n",
       "std                             NaN   5942.932584         NaN     0.500091   \n",
       "min                       -0.999900      0.000000   -1.000000     0.000000   \n",
       "25%                        0.000000    229.210000   -0.081275     0.000000   \n",
       "50%                        0.034350    568.960000    0.000000     0.000000   \n",
       "75%                        0.173575   1421.520000    0.428750     1.000000   \n",
       "max                             inf  82794.360000         inf     1.000000   \n",
       "\n",
       "          PE Ratio  \n",
       "count   797.000000  \n",
       "mean     36.556965  \n",
       "std     108.773578  \n",
       "min    -253.415254  \n",
       "25%      10.660473  \n",
       "50%      23.804243  \n",
       "75%      45.453358  \n",
       "max    1943.704545  "
      ]
     },
     "execution_count": 34,
     "metadata": {},
     "output_type": "execute_result"
    }
   ],
   "source": [
    "Stock_data.describe()"
   ]
  },
  {
   "cell_type": "code",
   "execution_count": 35,
   "id": "065440d3",
   "metadata": {},
   "outputs": [
    {
     "data": {
      "text/html": [
       "<div>\n",
       "<style scoped>\n",
       "    .dataframe tbody tr th:only-of-type {\n",
       "        vertical-align: middle;\n",
       "    }\n",
       "\n",
       "    .dataframe tbody tr th {\n",
       "        vertical-align: top;\n",
       "    }\n",
       "\n",
       "    .dataframe thead th {\n",
       "        text-align: right;\n",
       "    }\n",
       "</style>\n",
       "<table border=\"1\" class=\"dataframe\">\n",
       "  <thead>\n",
       "    <tr style=\"text-align: right;\">\n",
       "      <th></th>\n",
       "      <th>Year</th>\n",
       "      <th>Company</th>\n",
       "      <th>Basic EPS (Rs.)</th>\n",
       "      <th>Revenue from Operations/Share (Rs.)</th>\n",
       "      <th>PBDIT Margin (%)</th>\n",
       "      <th>Return on Networth/Equity (%)</th>\n",
       "      <th>Total Debt/Equity (X)</th>\n",
       "      <th>Current Ratio (X)</th>\n",
       "      <th>Price/BV (X)</th>\n",
       "      <th>Earnings Yield</th>\n",
       "      <th>Percentage change in revenue</th>\n",
       "      <th>Price</th>\n",
       "      <th>Return</th>\n",
       "      <th>PE Ratio</th>\n",
       "    </tr>\n",
       "    <tr>\n",
       "      <th>Performance</th>\n",
       "      <th></th>\n",
       "      <th></th>\n",
       "      <th></th>\n",
       "      <th></th>\n",
       "      <th></th>\n",
       "      <th></th>\n",
       "      <th></th>\n",
       "      <th></th>\n",
       "      <th></th>\n",
       "      <th></th>\n",
       "      <th></th>\n",
       "      <th></th>\n",
       "      <th></th>\n",
       "      <th></th>\n",
       "    </tr>\n",
       "  </thead>\n",
       "  <tbody>\n",
       "    <tr>\n",
       "      <th>0.0</th>\n",
       "      <td>324</td>\n",
       "      <td>324</td>\n",
       "      <td>324</td>\n",
       "      <td>323</td>\n",
       "      <td>324</td>\n",
       "      <td>324</td>\n",
       "      <td>324</td>\n",
       "      <td>324</td>\n",
       "      <td>324</td>\n",
       "      <td>324</td>\n",
       "      <td>324</td>\n",
       "      <td>324</td>\n",
       "      <td>324</td>\n",
       "      <td>324</td>\n",
       "    </tr>\n",
       "    <tr>\n",
       "      <th>1.0</th>\n",
       "      <td>302</td>\n",
       "      <td>302</td>\n",
       "      <td>302</td>\n",
       "      <td>302</td>\n",
       "      <td>302</td>\n",
       "      <td>302</td>\n",
       "      <td>302</td>\n",
       "      <td>302</td>\n",
       "      <td>302</td>\n",
       "      <td>302</td>\n",
       "      <td>302</td>\n",
       "      <td>302</td>\n",
       "      <td>302</td>\n",
       "      <td>302</td>\n",
       "    </tr>\n",
       "  </tbody>\n",
       "</table>\n",
       "</div>"
      ],
      "text/plain": [
       "             Year  Company  Basic EPS (Rs.)  \\\n",
       "Performance                                   \n",
       "0.0           324      324              324   \n",
       "1.0           302      302              302   \n",
       "\n",
       "             Revenue from Operations/Share (Rs.)  PBDIT Margin (%)  \\\n",
       "Performance                                                          \n",
       "0.0                                          323               324   \n",
       "1.0                                          302               302   \n",
       "\n",
       "             Return on Networth/Equity (%)  Total Debt/Equity (X)  \\\n",
       "Performance                                                         \n",
       "0.0                                    324                    324   \n",
       "1.0                                    302                    302   \n",
       "\n",
       "             Current Ratio (X)  Price/BV (X)  Earnings Yield  \\\n",
       "Performance                                                    \n",
       "0.0                        324           324             324   \n",
       "1.0                        302           302             302   \n",
       "\n",
       "             Percentage change in revenue  Price  Return  PE Ratio  \n",
       "Performance                                                         \n",
       "0.0                                   324    324     324       324  \n",
       "1.0                                   302    302     302       302  "
      ]
     },
     "execution_count": 35,
     "metadata": {},
     "output_type": "execute_result"
    }
   ],
   "source": [
    "Stock_data.groupby(Stock_data[\"Performance\"]).count()"
   ]
  },
  {
   "cell_type": "code",
   "execution_count": 122,
   "id": "b4d9d381",
   "metadata": {},
   "outputs": [
    {
     "data": {
      "text/plain": [
       "<matplotlib.collections.PathCollection at 0x27e7a7ffbe0>"
      ]
     },
     "execution_count": 122,
     "metadata": {},
     "output_type": "execute_result"
    },
    {
     "data": {
      "image/png": "[encoded data removed]",
      "text/plain": [
       "<Figure size 432x288 with 1 Axes>"
      ]
     },
     "metadata": {
      "needs_background": "light"
     },
     "output_type": "display_data"
    }
   ],
   "source": [
    "plt.scatter(Stock_data.Company,Stock_data.Performance,marker = \"+\")"
   ]
  },
  {
   "cell_type": "markdown",
   "id": "2b4d5975",
   "metadata": {},
   "source": [
    "## Predictor and Target"
   ]
  },
  {
   "cell_type": "code",
   "execution_count": 255,
   "id": "558b3922",
   "metadata": {},
   "outputs": [],
   "source": [
    "Performance_Data = Stock_data.dropna()"
   ]
  },
  {
   "cell_type": "code",
   "execution_count": 256,
   "id": "af4b1798",
   "metadata": {},
   "outputs": [
    {
     "data": {
      "text/plain": [
       "Year                                   0\n",
       "Company                                0\n",
       "Basic EPS (Rs.)                        0\n",
       "Revenue from Operations/Share (Rs.)    0\n",
       "PBDIT Margin (%)                       0\n",
       "Return on Networth/Equity (%)          0\n",
       "Total Debt/Equity (X)                  0\n",
       "Current Ratio (X)                      0\n",
       "Price/BV (X)                           0\n",
       "Earnings Yield                         0\n",
       "Percentage change in revenue           0\n",
       "Price                                  0\n",
       "Return                                 0\n",
       "Performance                            0\n",
       "PE Ratio                               0\n",
       "dtype: int64"
      ]
     },
     "execution_count": 256,
     "metadata": {},
     "output_type": "execute_result"
    }
   ],
   "source": [
    "Performance_Data.isnull().sum()"
   ]
  },
  {
   "cell_type": "code",
   "execution_count": 259,
   "id": "4cf5290d",
   "metadata": {
    "scrolled": true
   },
   "outputs": [
    {
     "data": {
      "text/html": [
       "<div>\n",
       "<style scoped>\n",
       "    .dataframe tbody tr th:only-of-type {\n",
       "        vertical-align: middle;\n",
       "    }\n",
       "\n",
       "    .dataframe tbody tr th {\n",
       "        vertical-align: top;\n",
       "    }\n",
       "\n",
       "    .dataframe thead th {\n",
       "        text-align: right;\n",
       "    }\n",
       "</style>\n",
       "<table border=\"1\" class=\"dataframe\">\n",
       "  <thead>\n",
       "    <tr style=\"text-align: right;\">\n",
       "      <th></th>\n",
       "      <th>Year</th>\n",
       "      <th>Company</th>\n",
       "      <th>Basic EPS (Rs.)</th>\n",
       "      <th>Revenue from Operations/Share (Rs.)</th>\n",
       "      <th>PBDIT Margin (%)</th>\n",
       "      <th>Return on Networth/Equity (%)</th>\n",
       "      <th>Total Debt/Equity (X)</th>\n",
       "      <th>Current Ratio (X)</th>\n",
       "      <th>Price/BV (X)</th>\n",
       "      <th>Earnings Yield</th>\n",
       "      <th>Percentage change in revenue</th>\n",
       "      <th>Price</th>\n",
       "      <th>Return</th>\n",
       "      <th>Performance</th>\n",
       "      <th>PE Ratio</th>\n",
       "    </tr>\n",
       "  </thead>\n",
       "  <tbody>\n",
       "    <tr>\n",
       "      <th>0</th>\n",
       "      <td>2021</td>\n",
       "      <td>ACC Ltd.</td>\n",
       "      <td>99.21</td>\n",
       "      <td>859.18</td>\n",
       "      <td>19.84</td>\n",
       "      <td>13.01</td>\n",
       "      <td>0.00</td>\n",
       "      <td>1.73</td>\n",
       "      <td>2.91</td>\n",
       "      <td>0.04</td>\n",
       "      <td>0.1716</td>\n",
       "      <td>1905.67</td>\n",
       "      <td>0.9836</td>\n",
       "      <td>1.0</td>\n",
       "      <td>19.208447</td>\n",
       "    </tr>\n",
       "    <tr>\n",
       "      <th>1</th>\n",
       "      <td>2020</td>\n",
       "      <td>ACC Ltd.</td>\n",
       "      <td>76.16</td>\n",
       "      <td>733.34</td>\n",
       "      <td>18.65</td>\n",
       "      <td>11.26</td>\n",
       "      <td>0.00</td>\n",
       "      <td>1.76</td>\n",
       "      <td>2.40</td>\n",
       "      <td>0.05</td>\n",
       "      <td>-0.1195</td>\n",
       "      <td>960.72</td>\n",
       "      <td>-0.4289</td>\n",
       "      <td>0.0</td>\n",
       "      <td>12.614496</td>\n",
       "    </tr>\n",
       "    <tr>\n",
       "      <th>2</th>\n",
       "      <td>2019</td>\n",
       "      <td>ACC Ltd.</td>\n",
       "      <td>73.35</td>\n",
       "      <td>832.89</td>\n",
       "      <td>17.44</td>\n",
       "      <td>11.93</td>\n",
       "      <td>0.00</td>\n",
       "      <td>1.60</td>\n",
       "      <td>2.35</td>\n",
       "      <td>0.05</td>\n",
       "      <td>0.0578</td>\n",
       "      <td>1682.10</td>\n",
       "      <td>0.1006</td>\n",
       "      <td>1.0</td>\n",
       "      <td>22.932515</td>\n",
       "    </tr>\n",
       "    <tr>\n",
       "      <th>4</th>\n",
       "      <td>2022</td>\n",
       "      <td>Adani Enterprises Ltd.</td>\n",
       "      <td>7.06</td>\n",
       "      <td>631.21</td>\n",
       "      <td>6.80</td>\n",
       "      <td>3.59</td>\n",
       "      <td>1.90</td>\n",
       "      <td>0.71</td>\n",
       "      <td>10.26</td>\n",
       "      <td>0.00</td>\n",
       "      <td>0.7558</td>\n",
       "      <td>2033.05</td>\n",
       "      <td>0.8789</td>\n",
       "      <td>1.0</td>\n",
       "      <td>287.967422</td>\n",
       "    </tr>\n",
       "    <tr>\n",
       "      <th>5</th>\n",
       "      <td>2021</td>\n",
       "      <td>Adani Enterprises Ltd.</td>\n",
       "      <td>8.39</td>\n",
       "      <td>359.49</td>\n",
       "      <td>8.24</td>\n",
       "      <td>5.37</td>\n",
       "      <td>0.89</td>\n",
       "      <td>0.93</td>\n",
       "      <td>6.61</td>\n",
       "      <td>0.01</td>\n",
       "      <td>-0.0891</td>\n",
       "      <td>1082.05</td>\n",
       "      <td>7.0235</td>\n",
       "      <td>1.0</td>\n",
       "      <td>128.969011</td>\n",
       "    </tr>\n",
       "    <tr>\n",
       "      <th>...</th>\n",
       "      <td>...</td>\n",
       "      <td>...</td>\n",
       "      <td>...</td>\n",
       "      <td>...</td>\n",
       "      <td>...</td>\n",
       "      <td>...</td>\n",
       "      <td>...</td>\n",
       "      <td>...</td>\n",
       "      <td>...</td>\n",
       "      <td>...</td>\n",
       "      <td>...</td>\n",
       "      <td>...</td>\n",
       "      <td>...</td>\n",
       "      <td>...</td>\n",
       "      <td>...</td>\n",
       "    </tr>\n",
       "    <tr>\n",
       "      <th>787</th>\n",
       "      <td>2022</td>\n",
       "      <td>Zomato Ltd.</td>\n",
       "      <td>-1.67</td>\n",
       "      <td>5.49</td>\n",
       "      <td>-32.34</td>\n",
       "      <td>-7.32</td>\n",
       "      <td>0.00</td>\n",
       "      <td>10.60</td>\n",
       "      <td>3.81</td>\n",
       "      <td>-0.02</td>\n",
       "      <td>-0.9999</td>\n",
       "      <td>84.35</td>\n",
       "      <td>NaN</td>\n",
       "      <td>1.0</td>\n",
       "      <td>-50.508982</td>\n",
       "    </tr>\n",
       "    <tr>\n",
       "      <th>792</th>\n",
       "      <td>2022</td>\n",
       "      <td>Zydus Lifesciences Ltd.</td>\n",
       "      <td>43.83</td>\n",
       "      <td>149.07</td>\n",
       "      <td>23.35</td>\n",
       "      <td>26.39</td>\n",
       "      <td>0.25</td>\n",
       "      <td>1.56</td>\n",
       "      <td>2.10</td>\n",
       "      <td>0.13</td>\n",
       "      <td>0.0598</td>\n",
       "      <td>351.69</td>\n",
       "      <td>-0.2056</td>\n",
       "      <td>0.0</td>\n",
       "      <td>8.023956</td>\n",
       "    </tr>\n",
       "    <tr>\n",
       "      <th>793</th>\n",
       "      <td>2021</td>\n",
       "      <td>Zydus Lifesciences Ltd.</td>\n",
       "      <td>20.84</td>\n",
       "      <td>140.66</td>\n",
       "      <td>23.83</td>\n",
       "      <td>16.42</td>\n",
       "      <td>0.35</td>\n",
       "      <td>1.11</td>\n",
       "      <td>3.47</td>\n",
       "      <td>0.05</td>\n",
       "      <td>0.0106</td>\n",
       "      <td>442.73</td>\n",
       "      <td>0.6479</td>\n",
       "      <td>0.0</td>\n",
       "      <td>21.244242</td>\n",
       "    </tr>\n",
       "    <tr>\n",
       "      <th>794</th>\n",
       "      <td>2020</td>\n",
       "      <td>Zydus Lifesciences Ltd.</td>\n",
       "      <td>11.49</td>\n",
       "      <td>139.19</td>\n",
       "      <td>20.32</td>\n",
       "      <td>11.33</td>\n",
       "      <td>0.68</td>\n",
       "      <td>1.05</td>\n",
       "      <td>2.64</td>\n",
       "      <td>0.04</td>\n",
       "      <td>0.0826</td>\n",
       "      <td>268.67</td>\n",
       "      <td>-0.2273</td>\n",
       "      <td>1.0</td>\n",
       "      <td>23.382942</td>\n",
       "    </tr>\n",
       "    <tr>\n",
       "      <th>795</th>\n",
       "      <td>2019</td>\n",
       "      <td>Zydus Lifesciences Ltd.</td>\n",
       "      <td>18.06</td>\n",
       "      <td>128.57</td>\n",
       "      <td>24.18</td>\n",
       "      <td>17.80</td>\n",
       "      <td>0.69</td>\n",
       "      <td>1.16</td>\n",
       "      <td>3.42</td>\n",
       "      <td>0.05</td>\n",
       "      <td>0.1059</td>\n",
       "      <td>347.70</td>\n",
       "      <td>-0.0974</td>\n",
       "      <td>0.0</td>\n",
       "      <td>19.252492</td>\n",
       "    </tr>\n",
       "  </tbody>\n",
       "</table>\n",
       "<p>625 rows × 15 columns</p>\n",
       "</div>"
      ],
      "text/plain": [
       "     Year                  Company  Basic EPS (Rs.)  \\\n",
       "0    2021                 ACC Ltd.            99.21   \n",
       "1    2020                 ACC Ltd.            76.16   \n",
       "2    2019                 ACC Ltd.            73.35   \n",
       "4    2022   Adani Enterprises Ltd.             7.06   \n",
       "5    2021   Adani Enterprises Ltd.             8.39   \n",
       "..    ...                      ...              ...   \n",
       "787  2022              Zomato Ltd.            -1.67   \n",
       "792  2022  Zydus Lifesciences Ltd.            43.83   \n",
       "793  2021  Zydus Lifesciences Ltd.            20.84   \n",
       "794  2020  Zydus Lifesciences Ltd.            11.49   \n",
       "795  2019  Zydus Lifesciences Ltd.            18.06   \n",
       "\n",
       "     Revenue from Operations/Share (Rs.)  PBDIT Margin (%)  \\\n",
       "0                                 859.18             19.84   \n",
       "1                                 733.34             18.65   \n",
       "2                                 832.89             17.44   \n",
       "4                                 631.21              6.80   \n",
       "5                                 359.49              8.24   \n",
       "..                                   ...               ...   \n",
       "787                                 5.49            -32.34   \n",
       "792                               149.07             23.35   \n",
       "793                               140.66             23.83   \n",
       "794                               139.19             20.32   \n",
       "795                               128.57             24.18   \n",
       "\n",
       "     Return on Networth/Equity (%)  Total Debt/Equity (X)  Current Ratio (X)  \\\n",
       "0                            13.01                   0.00               1.73   \n",
       "1                            11.26                   0.00               1.76   \n",
       "2                            11.93                   0.00               1.60   \n",
       "4                             3.59                   1.90               0.71   \n",
       "5                             5.37                   0.89               0.93   \n",
       "..                             ...                    ...                ...   \n",
       "787                          -7.32                   0.00              10.60   \n",
       "792                          26.39                   0.25               1.56   \n",
       "793                          16.42                   0.35               1.11   \n",
       "794                          11.33                   0.68               1.05   \n",
       "795                          17.80                   0.69               1.16   \n",
       "\n",
       "     Price/BV (X)  Earnings Yield  Percentage change in revenue    Price  \\\n",
       "0            2.91            0.04                        0.1716  1905.67   \n",
       "1            2.40            0.05                       -0.1195   960.72   \n",
       "2            2.35            0.05                        0.0578  1682.10   \n",
       "4           10.26            0.00                        0.7558  2033.05   \n",
       "5            6.61            0.01                       -0.0891  1082.05   \n",
       "..            ...             ...                           ...      ...   \n",
       "787          3.81           -0.02                       -0.9999    84.35   \n",
       "792          2.10            0.13                        0.0598   351.69   \n",
       "793          3.47            0.05                        0.0106   442.73   \n",
       "794          2.64            0.04                        0.0826   268.67   \n",
       "795          3.42            0.05                        0.1059   347.70   \n",
       "\n",
       "     Return  Performance    PE Ratio  \n",
       "0    0.9836          1.0   19.208447  \n",
       "1   -0.4289          0.0   12.614496  \n",
       "2    0.1006          1.0   22.932515  \n",
       "4    0.8789          1.0  287.967422  \n",
       "5    7.0235          1.0  128.969011  \n",
       "..      ...          ...         ...  \n",
       "787     NaN          1.0  -50.508982  \n",
       "792 -0.2056          0.0    8.023956  \n",
       "793  0.6479          0.0   21.244242  \n",
       "794 -0.2273          1.0   23.382942  \n",
       "795 -0.0974          0.0   19.252492  \n",
       "\n",
       "[625 rows x 15 columns]"
      ]
     },
     "execution_count": 259,
     "metadata": {},
     "output_type": "execute_result"
    }
   ],
   "source": [
    "Performance_Data"
   ]
  },
  {
   "cell_type": "code",
   "execution_count": 258,
   "id": "ac48db11",
   "metadata": {
    "scrolled": true
   },
   "outputs": [
    {
     "name": "stderr",
     "output_type": "stream",
     "text": [
      "C:\\Users\\Balaji\\AppData\\Local\\Temp\\ipykernel_9972\\1479671269.py:1: SettingWithCopyWarning: \n",
      "A value is trying to be set on a copy of a slice from a DataFrame\n",
      "\n",
      "See the caveats in the documentation: https://pandas.pydata.org/pandas-docs/stable/user_guide/indexing.html#returning-a-view-versus-a-copy\n",
      "  Performance_Data.replace([np.inf,-np.inf],np.nan,inplace = True)\n"
     ]
    }
   ],
   "source": [
    "Performance_Data.replace([np.inf,-np.inf],np.nan,inplace = True)"
   ]
  },
  {
   "cell_type": "code",
   "execution_count": 260,
   "id": "31091c5b",
   "metadata": {
    "scrolled": true
   },
   "outputs": [
    {
     "data": {
      "text/plain": [
       "Year                                   0\n",
       "Company                                0\n",
       "Basic EPS (Rs.)                        0\n",
       "Revenue from Operations/Share (Rs.)    0\n",
       "PBDIT Margin (%)                       0\n",
       "Return on Networth/Equity (%)          0\n",
       "Total Debt/Equity (X)                  0\n",
       "Current Ratio (X)                      0\n",
       "Price/BV (X)                           0\n",
       "Earnings Yield                         0\n",
       "Percentage change in revenue           0\n",
       "Price                                  0\n",
       "Return                                 0\n",
       "Performance                            0\n",
       "PE Ratio                               0\n",
       "dtype: int64"
      ]
     },
     "execution_count": 260,
     "metadata": {},
     "output_type": "execute_result"
    }
   ],
   "source": [
    "Performance_Data.isin([np.inf,-np.inf]).sum()"
   ]
  },
  {
   "cell_type": "code",
   "execution_count": 265,
   "id": "1ab8e6bb",
   "metadata": {
    "scrolled": true
   },
   "outputs": [
    {
     "data": {
      "text/plain": [
       "Year                                   0\n",
       "Company                                0\n",
       "Basic EPS (Rs.)                        0\n",
       "Revenue from Operations/Share (Rs.)    0\n",
       "PBDIT Margin (%)                       0\n",
       "Return on Networth/Equity (%)          0\n",
       "Total Debt/Equity (X)                  0\n",
       "Current Ratio (X)                      0\n",
       "Price/BV (X)                           0\n",
       "Earnings Yield                         0\n",
       "Percentage change in revenue           0\n",
       "Price                                  0\n",
       "Return                                 0\n",
       "Performance                            0\n",
       "PE Ratio                               0\n",
       "dtype: int64"
      ]
     },
     "execution_count": 265,
     "metadata": {},
     "output_type": "execute_result"
    }
   ],
   "source": [
    "Performance_Data.isna().sum()"
   ]
  },
  {
   "cell_type": "code",
   "execution_count": 264,
   "id": "6c0a5aac",
   "metadata": {},
   "outputs": [],
   "source": [
    "Performance_Data = Performance_Data.dropna()"
   ]
  },
  {
   "cell_type": "code",
   "execution_count": 266,
   "id": "b3f68fe0",
   "metadata": {},
   "outputs": [
    {
     "data": {
      "text/plain": [
       "(612, 15)"
      ]
     },
     "execution_count": 266,
     "metadata": {},
     "output_type": "execute_result"
    }
   ],
   "source": [
    "Performance_Data.shape"
   ]
  },
  {
   "cell_type": "code",
   "execution_count": 268,
   "id": "718b9c61",
   "metadata": {},
   "outputs": [],
   "source": [
    "X = Performance_Data.drop([\"Performance\",\"Year\",\"Company\",\"Earnings Yield\",\"Price\",\"Return\"],axis = 1)\n",
    "y = Performance_Data.Performance"
   ]
  },
  {
   "cell_type": "code",
   "execution_count": 232,
   "id": "2b035397",
   "metadata": {},
   "outputs": [],
   "source": [
    "import math\n",
    "import numpy as np"
   ]
  },
  {
   "cell_type": "code",
   "execution_count": 269,
   "id": "4a91c36e",
   "metadata": {
    "scrolled": false
   },
   "outputs": [
    {
     "data": {
      "text/html": [
       "<div>\n",
       "<style scoped>\n",
       "    .dataframe tbody tr th:only-of-type {\n",
       "        vertical-align: middle;\n",
       "    }\n",
       "\n",
       "    .dataframe tbody tr th {\n",
       "        vertical-align: top;\n",
       "    }\n",
       "\n",
       "    .dataframe thead th {\n",
       "        text-align: right;\n",
       "    }\n",
       "</style>\n",
       "<table border=\"1\" class=\"dataframe\">\n",
       "  <thead>\n",
       "    <tr style=\"text-align: right;\">\n",
       "      <th></th>\n",
       "      <th>Basic EPS (Rs.)</th>\n",
       "      <th>Revenue from Operations/Share (Rs.)</th>\n",
       "      <th>PBDIT Margin (%)</th>\n",
       "      <th>Return on Networth/Equity (%)</th>\n",
       "      <th>Total Debt/Equity (X)</th>\n",
       "      <th>Current Ratio (X)</th>\n",
       "      <th>Price/BV (X)</th>\n",
       "      <th>Percentage change in revenue</th>\n",
       "      <th>PE Ratio</th>\n",
       "    </tr>\n",
       "  </thead>\n",
       "  <tbody>\n",
       "    <tr>\n",
       "      <th>0</th>\n",
       "      <td>99.21</td>\n",
       "      <td>859.18</td>\n",
       "      <td>19.84</td>\n",
       "      <td>13.01</td>\n",
       "      <td>0.00</td>\n",
       "      <td>1.73</td>\n",
       "      <td>2.91</td>\n",
       "      <td>0.1716</td>\n",
       "      <td>19.208447</td>\n",
       "    </tr>\n",
       "    <tr>\n",
       "      <th>1</th>\n",
       "      <td>76.16</td>\n",
       "      <td>733.34</td>\n",
       "      <td>18.65</td>\n",
       "      <td>11.26</td>\n",
       "      <td>0.00</td>\n",
       "      <td>1.76</td>\n",
       "      <td>2.40</td>\n",
       "      <td>-0.1195</td>\n",
       "      <td>12.614496</td>\n",
       "    </tr>\n",
       "    <tr>\n",
       "      <th>2</th>\n",
       "      <td>73.35</td>\n",
       "      <td>832.89</td>\n",
       "      <td>17.44</td>\n",
       "      <td>11.93</td>\n",
       "      <td>0.00</td>\n",
       "      <td>1.60</td>\n",
       "      <td>2.35</td>\n",
       "      <td>0.0578</td>\n",
       "      <td>22.932515</td>\n",
       "    </tr>\n",
       "    <tr>\n",
       "      <th>4</th>\n",
       "      <td>7.06</td>\n",
       "      <td>631.21</td>\n",
       "      <td>6.80</td>\n",
       "      <td>3.59</td>\n",
       "      <td>1.90</td>\n",
       "      <td>0.71</td>\n",
       "      <td>10.26</td>\n",
       "      <td>0.7558</td>\n",
       "      <td>287.967422</td>\n",
       "    </tr>\n",
       "    <tr>\n",
       "      <th>5</th>\n",
       "      <td>8.39</td>\n",
       "      <td>359.49</td>\n",
       "      <td>8.24</td>\n",
       "      <td>5.37</td>\n",
       "      <td>0.89</td>\n",
       "      <td>0.93</td>\n",
       "      <td>6.61</td>\n",
       "      <td>-0.0891</td>\n",
       "      <td>128.969011</td>\n",
       "    </tr>\n",
       "  </tbody>\n",
       "</table>\n",
       "</div>"
      ],
      "text/plain": [
       "   Basic EPS (Rs.)  Revenue from Operations/Share (Rs.)  PBDIT Margin (%)  \\\n",
       "0            99.21                               859.18             19.84   \n",
       "1            76.16                               733.34             18.65   \n",
       "2            73.35                               832.89             17.44   \n",
       "4             7.06                               631.21              6.80   \n",
       "5             8.39                               359.49              8.24   \n",
       "\n",
       "   Return on Networth/Equity (%)  Total Debt/Equity (X)  Current Ratio (X)  \\\n",
       "0                          13.01                   0.00               1.73   \n",
       "1                          11.26                   0.00               1.76   \n",
       "2                          11.93                   0.00               1.60   \n",
       "4                           3.59                   1.90               0.71   \n",
       "5                           5.37                   0.89               0.93   \n",
       "\n",
       "   Price/BV (X)  Percentage change in revenue    PE Ratio  \n",
       "0          2.91                        0.1716   19.208447  \n",
       "1          2.40                       -0.1195   12.614496  \n",
       "2          2.35                        0.0578   22.932515  \n",
       "4         10.26                        0.7558  287.967422  \n",
       "5          6.61                       -0.0891  128.969011  "
      ]
     },
     "execution_count": 269,
     "metadata": {},
     "output_type": "execute_result"
    }
   ],
   "source": [
    "X.head()"
   ]
  },
  {
   "cell_type": "code",
   "execution_count": 270,
   "id": "0416295a",
   "metadata": {
    "scrolled": true
   },
   "outputs": [
    {
     "data": {
      "text/plain": [
       "Basic EPS (Rs.)                        0\n",
       "Revenue from Operations/Share (Rs.)    0\n",
       "PBDIT Margin (%)                       0\n",
       "Return on Networth/Equity (%)          0\n",
       "Total Debt/Equity (X)                  0\n",
       "Current Ratio (X)                      0\n",
       "Price/BV (X)                           0\n",
       "Percentage change in revenue           0\n",
       "PE Ratio                               0\n",
       "dtype: int64"
      ]
     },
     "execution_count": 270,
     "metadata": {},
     "output_type": "execute_result"
    }
   ],
   "source": [
    "X.isna().sum(axis = 0)"
   ]
  },
  {
   "cell_type": "code",
   "execution_count": 271,
   "id": "1a69fe0d",
   "metadata": {
    "scrolled": true
   },
   "outputs": [
    {
     "data": {
      "text/plain": [
       "0    1.0\n",
       "1    0.0\n",
       "2    1.0\n",
       "4    1.0\n",
       "5    1.0\n",
       "Name: Performance, dtype: float64"
      ]
     },
     "execution_count": 271,
     "metadata": {},
     "output_type": "execute_result"
    }
   ],
   "source": [
    "y.head()"
   ]
  },
  {
   "cell_type": "code",
   "execution_count": 272,
   "id": "42a4362c",
   "metadata": {},
   "outputs": [
    {
     "data": {
      "text/plain": [
       "(612,)"
      ]
     },
     "execution_count": 272,
     "metadata": {},
     "output_type": "execute_result"
    }
   ],
   "source": [
    "y.shape"
   ]
  },
  {
   "cell_type": "code",
   "execution_count": 273,
   "id": "d00f54a1",
   "metadata": {},
   "outputs": [
    {
     "data": {
      "text/plain": [
       "289.0"
      ]
     },
     "execution_count": 273,
     "metadata": {},
     "output_type": "execute_result"
    }
   ],
   "source": [
    "y.sum()"
   ]
  },
  {
   "cell_type": "code",
   "execution_count": 274,
   "id": "10930a8e",
   "metadata": {},
   "outputs": [
    {
     "data": {
      "text/plain": [
       "0"
      ]
     },
     "execution_count": 274,
     "metadata": {},
     "output_type": "execute_result"
    }
   ],
   "source": [
    "y.isna().sum()"
   ]
  },
  {
   "cell_type": "code",
   "execution_count": 275,
   "id": "4db63071",
   "metadata": {},
   "outputs": [
    {
     "data": {
      "text/plain": [
       "323"
      ]
     },
     "execution_count": 275,
     "metadata": {},
     "output_type": "execute_result"
    }
   ],
   "source": [
    "sum(y==0)"
   ]
  },
  {
   "cell_type": "code",
   "execution_count": 276,
   "id": "5b555378",
   "metadata": {},
   "outputs": [],
   "source": [
    "# y = y.dropna()"
   ]
  },
  {
   "cell_type": "markdown",
   "id": "21e66aa9",
   "metadata": {},
   "source": [
    "## Train - Validation - Test - Split"
   ]
  },
  {
   "cell_type": "code",
   "execution_count": 277,
   "id": "501e5e06",
   "metadata": {},
   "outputs": [],
   "source": [
    "X_train, X_test, y_train, y_test = train_test_split(X,\n",
    "                                                   y,\n",
    "                                                   test_size = 0.2)"
   ]
  },
  {
   "cell_type": "code",
   "execution_count": 278,
   "id": "c9f1c99e",
   "metadata": {},
   "outputs": [],
   "source": [
    "#Train - Validation split\n",
    "X_train, X_valid, y_train, y_valid = train_test_split(X_train,\n",
    "                                                     y_train,\n",
    "                                                     test_size=0.25)"
   ]
  },
  {
   "cell_type": "code",
   "execution_count": 279,
   "id": "922b0519",
   "metadata": {},
   "outputs": [
    {
     "data": {
      "text/plain": [
       "(366, 9)"
      ]
     },
     "execution_count": 279,
     "metadata": {},
     "output_type": "execute_result"
    }
   ],
   "source": [
    "X_train.shape"
   ]
  },
  {
   "cell_type": "code",
   "execution_count": 280,
   "id": "d08d0f9e",
   "metadata": {},
   "outputs": [
    {
     "data": {
      "text/plain": [
       "(123, 9)"
      ]
     },
     "execution_count": 280,
     "metadata": {},
     "output_type": "execute_result"
    }
   ],
   "source": [
    "X_valid.shape"
   ]
  },
  {
   "cell_type": "code",
   "execution_count": 281,
   "id": "0712eb55",
   "metadata": {
    "scrolled": true
   },
   "outputs": [
    {
     "data": {
      "text/plain": [
       "(123,)"
      ]
     },
     "execution_count": 281,
     "metadata": {},
     "output_type": "execute_result"
    }
   ],
   "source": [
    "y_valid.shape"
   ]
  },
  {
   "cell_type": "code",
   "execution_count": 282,
   "id": "58ceb25e",
   "metadata": {},
   "outputs": [
    {
     "data": {
      "text/plain": [
       "(366,)"
      ]
     },
     "execution_count": 282,
     "metadata": {},
     "output_type": "execute_result"
    }
   ],
   "source": [
    "y_train.shape"
   ]
  },
  {
   "cell_type": "markdown",
   "id": "b6a8971d",
   "metadata": {},
   "source": [
    "## Fitting a Logistic Regression"
   ]
  },
  {
   "cell_type": "code",
   "execution_count": 283,
   "id": "9571527f",
   "metadata": {},
   "outputs": [],
   "source": [
    "from sklearn.linear_model import LogisticRegression"
   ]
  },
  {
   "cell_type": "code",
   "execution_count": 284,
   "id": "868655f7",
   "metadata": {},
   "outputs": [],
   "source": [
    "model = LogisticRegression()"
   ]
  },
  {
   "cell_type": "code",
   "execution_count": 285,
   "id": "99db6480",
   "metadata": {},
   "outputs": [
    {
     "name": "stderr",
     "output_type": "stream",
     "text": [
      "C:\\Users\\Balaji\\anaconda3\\lib\\site-packages\\sklearn\\linear_model\\_logistic.py:814: ConvergenceWarning: lbfgs failed to converge (status=1):\n",
      "STOP: TOTAL NO. of ITERATIONS REACHED LIMIT.\n",
      "\n",
      "Increase the number of iterations (max_iter) or scale the data as shown in:\n",
      "    https://scikit-learn.org/stable/modules/preprocessing.html\n",
      "Please also refer to the documentation for alternative solver options:\n",
      "    https://scikit-learn.org/stable/modules/linear_model.html#logistic-regression\n",
      "  n_iter_i = _check_optimize_result(\n"
     ]
    },
    {
     "data": {
      "text/plain": [
       "LogisticRegression()"
      ]
     },
     "execution_count": 285,
     "metadata": {},
     "output_type": "execute_result"
    }
   ],
   "source": [
    "model.fit(X_train,y_train)"
   ]
  },
  {
   "cell_type": "code",
   "execution_count": 289,
   "id": "f0f80ded",
   "metadata": {},
   "outputs": [],
   "source": [
    "prediction = model.predict(X_test)"
   ]
  },
  {
   "cell_type": "code",
   "execution_count": 290,
   "id": "ed01db4f",
   "metadata": {},
   "outputs": [
    {
     "data": {
      "text/plain": [
       "0.5528455284552846"
      ]
     },
     "execution_count": 290,
     "metadata": {},
     "output_type": "execute_result"
    }
   ],
   "source": [
    "model.score(X_test,y_test)"
   ]
  },
  {
   "cell_type": "code",
   "execution_count": 288,
   "id": "a2ecfd6a",
   "metadata": {},
   "outputs": [],
   "source": [
    "from sklearn import metrics"
   ]
  },
  {
   "cell_type": "code",
   "execution_count": 291,
   "id": "27889470",
   "metadata": {},
   "outputs": [],
   "source": [
    "cm = metrics.confusion_matrix(y_test, prediction)"
   ]
  },
  {
   "cell_type": "code",
   "execution_count": 292,
   "id": "fb67de06",
   "metadata": {},
   "outputs": [
    {
     "name": "stdout",
     "output_type": "stream",
     "text": [
      "[[42 16]\n",
      " [39 26]]\n"
     ]
    }
   ],
   "source": [
    "print(cm)"
   ]
  },
  {
   "cell_type": "code",
   "execution_count": 36,
   "id": "e5e87b32",
   "metadata": {},
   "outputs": [],
   "source": [
    "# TypeOfCompany = []\n",
    "# for i in range(0,len(df1[\"Year\"])-1):\n",
    "#     if df1[\"Return\"][i] > list(Index_Return.values())[i]:\n",
    "#         TypeOfCompany.append(1)\n",
    "#     if df1[\"Return\"][i] < list(Index_Return.values())[i]:\n",
    "#         TypeOfCompany.append(0)\n",
    "#     else:\n",
    "#         TypeOfCompany.append(\"NA\")\n"
   ]
  },
  {
   "cell_type": "code",
   "execution_count": 37,
   "id": "28c92783",
   "metadata": {},
   "outputs": [],
   "source": [
    "# TypeOfCompany = []\n",
    "# for i in df1[\"Year\"]:\n",
    "#     print(i)\n",
    "#     if df1.loc[df1[\"Year\"] == i][\"Return\"][0] > Index_Return[i]:\n",
    "#         TypeOfCompany.append((i,1))\n",
    "#     elif df1.loc[df1[\"Year\"] == i][\"Return\"][0] < Index_Return[i]:\n",
    "#         TypeOfCompany.append((i,0))\n",
    "#     else:\n",
    "#         TypeOfCompany.append((i,\"NA\"))\n",
    "        "
   ]
  },
  {
   "cell_type": "code",
   "execution_count": 38,
   "id": "b4c22456",
   "metadata": {},
   "outputs": [],
   "source": [
    "# TypeOfCompany"
   ]
  },
  {
   "cell_type": "code",
   "execution_count": 39,
   "id": "81e88466",
   "metadata": {
    "scrolled": true
   },
   "outputs": [],
   "source": [
    "# df1[\"Return\"],Index_Return"
   ]
  },
  {
   "cell_type": "code",
   "execution_count": 40,
   "id": "479ef596",
   "metadata": {},
   "outputs": [],
   "source": [
    "# df1.loc[df1[\"Year\"] == 2022][\"Return\"][0]"
   ]
  },
  {
   "cell_type": "code",
   "execution_count": 42,
   "id": "0dedf7e3",
   "metadata": {
    "scrolled": true
   },
   "outputs": [],
   "source": [
    "# TypeOfCompany"
   ]
  },
  {
   "cell_type": "code",
   "execution_count": 43,
   "id": "c0f1b4a1",
   "metadata": {},
   "outputs": [],
   "source": [
    "# df1.loc[df1[\"Year\"] == 2022][\"Return\"]"
   ]
  },
  {
   "cell_type": "code",
   "execution_count": 44,
   "id": "ddb24f93",
   "metadata": {
    "scrolled": false
   },
   "outputs": [],
   "source": [
    "# df1[\"Year\"]"
   ]
  },
  {
   "cell_type": "code",
   "execution_count": 45,
   "id": "84040800",
   "metadata": {},
   "outputs": [],
   "source": [
    "# Index_Return[2022]"
   ]
  },
  {
   "cell_type": "code",
   "execution_count": 46,
   "id": "76c3ce9a",
   "metadata": {},
   "outputs": [],
   "source": [
    "# Columns = [\"Ratio\",\"2022\",\"2021\",\"2020\",\"2019\",\"2018\"]\n",
    "# Company = \"Avenue Supermarts Ltd.\"\n",
    "# Symbol = \"DMART\"\n",
    "# important_column = [\"Year\",\n",
    "#             \"Company\",\n",
    "#             \"Basic EPS (Rs.)\",\n",
    "#            \"Revenue from Operations/Share (Rs.)\",\n",
    "#            \"PBDIT Margin (%)\",\n",
    "#            \"Return on Networth/Equity (%)\",\n",
    "#            \"Total Debt/Equity (X)\",\n",
    "#            \"Current Ratio (X)\",\n",
    "#            \"Price/BV (X)\",\n",
    "#            \"Earnings Yield\"]\n",
    "# company_name = Company+\" Fin Ratio.csv\"\n",
    "# df = pd.read_csv(company_name)\n",
    "# #df[\"Company\"] = Company\n",
    "# df1 =pd.DataFrame()\n",
    "# for i in list(df):\n",
    "#     if i in Columns:\n",
    "#         df1 = pd.concat([df1,df[i]],axis = 1)\n",
    "# df1 = df1.transpose()\n",
    "# df1.columns = df1.iloc[0]\n",
    "# df1 = df1[1:]\n",
    "# df1[\"Company\"] = Company\n",
    "# df1[\"Year\"] = df1.index\n",
    "# df1 = df1[important_column]\n",
    "# for i in list(df1):\n",
    "#     if i != \"Company\":\n",
    "#         try:\n",
    "#             df1[i] = pd.to_numeric(df1[i])\n",
    "#         except:\n",
    "#             df1[i] = df1[i].str.replace(\",\",\"\")\n",
    "#             df1[i] = pd.to_numeric(df1[i])\n",
    "#     else:\n",
    "#         continue        \n",
    "# Change = []\n",
    "# for i in range(0,len(df1[important_column[3]])-1):\n",
    "#     Change.append(round((df1[important_column[3]][i]-df1[important_column[3]][i+1])/df1[important_column[3]][i+1],4))\n",
    "# Change.append(0)\n",
    "# df1[\"Percentage change in revenue\"] = Change\n",
    "# Stock_Price = []\n",
    "# for i in [2022,2021,2020,2019,2018]:\n",
    "#     count = 1\n",
    "#     data = pd.DataFrame()\n",
    "#     while data.empty == True:\n",
    "#         start = date(i,4,count)\n",
    "#         end = date(i,4,count)\n",
    "#         data = nsepy.get_history(symbol = Symbol, start = start,end = end)\n",
    "#         if data.empty == False:\n",
    "#             Stock_Price.append(data.VWAP[0])\n",
    "#         count += 1\n",
    "# df1[\"Price\"] = Stock_Price\n",
    "# df1.to_csv(\"C:\\\\Users\\\\Balaji\\\\Praxis Projects\\\\Placements\\\\Nifty 200\\\\Updated\\\\\"+\"Final \"+company_name,index = False)"
   ]
  },
  {
   "cell_type": "code",
   "execution_count": 47,
   "id": "b033869e",
   "metadata": {},
   "outputs": [],
   "source": [
    "# Stock_Price = []\n",
    "# Symbol = \"ADANIGREEN\"\n",
    "# for i in df1[\"Year\"]:\n",
    "#     count = 1\n",
    "#     data = pd.DataFrame()\n",
    "#     try:\n",
    "#         while data.empty == True:\n",
    "#             start = date(i,4,count)\n",
    "#             end = date(i,4,count)\n",
    "#             data = nsepy.get_history(symbol = Symbol, start = start,end = end)\n",
    "#             if data.empty == False:\n",
    "#                 Stock_Price.append(data.Close[0])\n",
    "#             count += 1\n",
    "#     except:\n",
    "#         Stock_Price.append(0)"
   ]
  },
  {
   "cell_type": "code",
   "execution_count": 48,
   "id": "e2882f5f",
   "metadata": {
    "scrolled": true
   },
   "outputs": [],
   "source": [
    "# list(Index_Return.values())[0]"
   ]
  },
  {
   "cell_type": "code",
   "execution_count": 49,
   "id": "951b365c",
   "metadata": {},
   "outputs": [],
   "source": [
    "# Stock_Price = []\n",
    "# Symbol = \"ADANIGREEN\"\n",
    "# for i in df1[\"Year\"]:\n",
    "#     count = 1\n",
    "#     data = pd.DataFrame()\n",
    "#     try:\n",
    "#         while data.empty == True:\n",
    "#             start = date(i,4,count)\n",
    "#             end = date(i,4,count)\n",
    "#             data = nsepy.get_history(symbol = Symbol, start = start,end = end)\n",
    "#             if data.empty == False:\n",
    "#                 Stock_Price.append(data.VWAP[0])\n",
    "#             count += 1\n",
    "#     except:\n",
    "#         Stock_Price.append(0)"
   ]
  },
  {
   "cell_type": "code",
   "execution_count": 50,
   "id": "2e82306e",
   "metadata": {},
   "outputs": [],
   "source": [
    "# Stock_Price"
   ]
  },
  {
   "cell_type": "code",
   "execution_count": 51,
   "id": "5e70a87c",
   "metadata": {
    "scrolled": true
   },
   "outputs": [],
   "source": [
    "\n",
    "# Company = \"Avenue Supermarts Ltd.\"\n",
    "# Symbol = \"NIFTY 200\"\n",
    "# for i in [2022,2021,2020,2019]:\n",
    "#     count = 1\n",
    "#     data = pd.DataFrame([0])\n",
    "#     while True:\n",
    "#         start = date(i,4,count)\n",
    "#         end = date(i,4,count)\n",
    "#         data = nsepy.get_history(symbol = Symbol, start = start,end = end,index = True)\n",
    "#         print(i,count,data)\n",
    "#         count += 1\n",
    "#         if data.empty == False:\n",
    "#             Index_Price.append(data.Close[0])\n",
    "#             break"
   ]
  },
  {
   "cell_type": "code",
   "execution_count": 52,
   "id": "9d49c52c",
   "metadata": {},
   "outputs": [],
   "source": [
    "# data.empty"
   ]
  },
  {
   "cell_type": "code",
   "execution_count": 53,
   "id": "38423d96",
   "metadata": {},
   "outputs": [],
   "source": [
    "# Index_Price"
   ]
  },
  {
   "cell_type": "code",
   "execution_count": 54,
   "id": "fccebe86",
   "metadata": {},
   "outputs": [],
   "source": [
    "# pd.DataFramea([0]).empty"
   ]
  },
  {
   "cell_type": "code",
   "execution_count": 55,
   "id": "1fed3115",
   "metadata": {},
   "outputs": [],
   "source": [
    "# Index_Price"
   ]
  },
  {
   "cell_type": "code",
   "execution_count": 56,
   "id": "5865114e",
   "metadata": {},
   "outputs": [],
   "source": [
    "# data.Close"
   ]
  },
  {
   "cell_type": "code",
   "execution_count": 57,
   "id": "13412ce8",
   "metadata": {},
   "outputs": [],
   "source": [
    "# count"
   ]
  },
  {
   "cell_type": "code",
   "execution_count": 58,
   "id": "00b4b2ef",
   "metadata": {},
   "outputs": [],
   "source": [
    "# start = date(2018,4,2)\n",
    "# end = date(2018,4,4)\n",
    "# data = nsepy.get_history(symbol = \"NIFTY 200\", start = start,end = end, index = True)"
   ]
  },
  {
   "cell_type": "code",
   "execution_count": 60,
   "id": "772844ba",
   "metadata": {},
   "outputs": [],
   "source": [
    "# data"
   ]
  },
  {
   "cell_type": "code",
   "execution_count": 61,
   "id": "28b7f67b",
   "metadata": {},
   "outputs": [],
   "source": [
    "# data.empty"
   ]
  },
  {
   "cell_type": "code",
   "execution_count": 62,
   "id": "5ba9fb99",
   "metadata": {},
   "outputs": [],
   "source": [
    "# data.Close[0]"
   ]
  },
  {
   "cell_type": "code",
   "execution_count": 63,
   "id": "cdeb2c50",
   "metadata": {},
   "outputs": [],
   "source": [
    "# Stock_Price"
   ]
  },
  {
   "cell_type": "code",
   "execution_count": 64,
   "id": "889f37b9",
   "metadata": {},
   "outputs": [],
   "source": [
    "# data = nsepy.get_history(symbol = \"SBI\", start = date(1,4,2021),end = date(4,4,2021)"
   ]
  },
  {
   "cell_type": "code",
   "execution_count": 65,
   "id": "86fd54cc",
   "metadata": {
    "scrolled": true
   },
   "outputs": [],
   "source": [
    "# df1.convert_dtypes()"
   ]
  },
  {
   "cell_type": "code",
   "execution_count": 66,
   "id": "f0359ea6",
   "metadata": {},
   "outputs": [],
   "source": [
    "# df1.astype(\"str\")"
   ]
  },
  {
   "cell_type": "code",
   "execution_count": 67,
   "id": "a908c0fb",
   "metadata": {
    "scrolled": true
   },
   "outputs": [],
   "source": [
    "# df1[\"Year\"] = pd.to_numeric(df1[\"Year\"])"
   ]
  },
  {
   "cell_type": "code",
   "execution_count": 68,
   "id": "1270a759",
   "metadata": {
    "scrolled": true
   },
   "outputs": [],
   "source": [
    "# df1.dtypes"
   ]
  },
  {
   "cell_type": "code",
   "execution_count": 70,
   "id": "5d02e109",
   "metadata": {},
   "outputs": [],
   "source": [
    "#  for i in df1[\"Company\"]:\n",
    "#     print(type(i))"
   ]
  },
  {
   "cell_type": "code",
   "execution_count": 71,
   "id": "601bd16f",
   "metadata": {},
   "outputs": [],
   "source": [
    "# df1[\"Revenue from Operations/Share (Rs.)\"].str.replace(\",\",\"\")"
   ]
  },
  {
   "cell_type": "code",
   "execution_count": 72,
   "id": "ab95b379",
   "metadata": {
    "scrolled": false
   },
   "outputs": [],
   "source": [
    "# for i in list(df1):\n",
    "#     if i != \"Company\":\n",
    "#         try:\n",
    "#             df1[i] = pd.to_numeric(df1[i])\n",
    "#         except:\n",
    "#             df1[i] = df1[i].str.replace(\",\",\"\")\n",
    "#             df1[i] = pd.to_numeric(df1[i])\n",
    "#     else:\n",
    "#         continue"
   ]
  },
  {
   "cell_type": "code",
   "execution_count": 73,
   "id": "b352dff4",
   "metadata": {},
   "outputs": [],
   "source": [
    "# df1.dtypes"
   ]
  },
  {
   "cell_type": "code",
   "execution_count": 74,
   "id": "c4f546d9",
   "metadata": {},
   "outputs": [],
   "source": [
    "# df1.loc[:,df1.columns != \"Company\"] = pd.to_numeric(df1.loc[:,df1.columns != \"Company\"])"
   ]
  },
  {
   "cell_type": "code",
   "execution_count": 75,
   "id": "8f541865",
   "metadata": {},
   "outputs": [],
   "source": [
    "# df1.dtypes"
   ]
  },
  {
   "cell_type": "code",
   "execution_count": 76,
   "id": "cfd1ec4e",
   "metadata": {},
   "outputs": [],
   "source": [
    "# list(df1)"
   ]
  },
  {
   "cell_type": "code",
   "execution_count": 77,
   "id": "662ecb7c",
   "metadata": {},
   "outputs": [],
   "source": [
    "# Columns = [\"Ratio\",\"2022\",\"2021\",\"2020\",\"2019\",\"2018\"]\n",
    "# company_name = \"Adani Green Energy Ltd.\"+\" Fin Ratio.csv\"\n",
    "# df = pd.read_csv(company_name)\n",
    "# df1 =pd.DataFrame()\n",
    "# for i in list(df):\n",
    "#     if i in Columns:\n",
    "#         df1 = pd.concat([df1,df[i]],axis = 1)\n",
    "# df1 = df1.transpose()\n",
    "# df1.columns = df1.iloc[0]\n",
    "# df1 = df1[1:]\n",
    "# df1[\"Year\"] = df1.index\n",
    "# df1"
   ]
  },
  {
   "cell_type": "code",
   "execution_count": 78,
   "id": "7f4acdf3",
   "metadata": {},
   "outputs": [],
   "source": [
    "# df1 = pd.read_csv(\"C:\\\\Users\\\\Balaji\\\\Praxis Projects\\\\Placements\\\\Nifty 200\\\\Updated\\\\\"+\"Final Adani Transmission Ltd. Fin Ratio.csv\")"
   ]
  },
  {
   "cell_type": "code",
   "execution_count": 79,
   "id": "78490c13",
   "metadata": {},
   "outputs": [],
   "source": [
    "# df1"
   ]
  },
  {
   "cell_type": "code",
   "execution_count": 80,
   "id": "bb910d7f",
   "metadata": {},
   "outputs": [],
   "source": [
    "# df1[\"Stock_Price\"] =  Stock_Price"
   ]
  },
  {
   "cell_type": "code",
   "execution_count": 81,
   "id": "95dae937",
   "metadata": {
    "scrolled": true
   },
   "outputs": [],
   "source": [
    "# list(df1)"
   ]
  },
  {
   "cell_type": "code",
   "execution_count": 82,
   "id": "f3ac1a84",
   "metadata": {},
   "outputs": [],
   "source": [
    "# df1"
   ]
  },
  {
   "cell_type": "code",
   "execution_count": 83,
   "id": "4f1de32d",
   "metadata": {},
   "outputs": [],
   "source": [
    "# df1.transpose().to_csv(\"SamplePakka.csv\",index= False)"
   ]
  },
  {
   "cell_type": "code",
   "execution_count": 84,
   "id": "e6c5c361",
   "metadata": {},
   "outputs": [],
   "source": [
    "# columns = df1[]\n",
    "# df2 = df1.transpose()\n",
    "# Columns_transformed = df2.iloc[0]\n",
    "# df3 = df1.transpose()\n",
    "# df3.columns = Columns_transformed\n",
    "# df3[1:]"
   ]
  },
  {
   "cell_type": "code",
   "execution_count": 85,
   "id": "9c7e8c87",
   "metadata": {},
   "outputs": [],
   "source": [
    "# df1.transpose()[0:]"
   ]
  },
  {
   "cell_type": "code",
   "execution_count": 86,
   "id": "17697282",
   "metadata": {},
   "outputs": [],
   "source": [
    "# important_column = [\"Year\",\n",
    "#                     \"Company\",\n",
    "#                     \"Basic EPS (Rs.)\",\n",
    "#                    \"Revenue from Operations/Share (Rs.)\",\n",
    "#                    \"PBDIT Margin (%)\",\n",
    "#                    \"Return on Networth/Equity (%)\",\n",
    "#                    \"Total Debt/Equity (X)\",\n",
    "#                    \"Current Ratio (X)\",\n",
    "#                    \"Price/BV (X)\",\n",
    "#                    \"Earnings Yield\"]"
   ]
  },
  {
   "cell_type": "code",
   "execution_count": 87,
   "id": "e877b1d7",
   "metadata": {},
   "outputs": [],
   "source": [
    "# important_column[]"
   ]
  },
  {
   "cell_type": "code",
   "execution_count": 88,
   "id": "05c9db3d",
   "metadata": {
    "scrolled": true
   },
   "outputs": [],
   "source": [
    "# df1.dtypes"
   ]
  },
  {
   "cell_type": "code",
   "execution_count": 89,
   "id": "d689c0f2",
   "metadata": {},
   "outputs": [],
   "source": [
    "# df1[important_column[3]]"
   ]
  },
  {
   "cell_type": "code",
   "execution_count": 90,
   "id": "53e89cf6",
   "metadata": {},
   "outputs": [],
   "source": [
    "# Change = []\n",
    "# for i in range(0,len(df1[important_column[3]])-1):\n",
    "#     print(type(df1[important_column[3]][i]))\n",
    "#     Change.append(round((df1[important_column[3]][i]-df1[important_column[3]][i+1])/df1[important_column[3]][i+1],4))\n",
    "# Change.append(0)"
   ]
  },
  {
   "cell_type": "code",
   "execution_count": 91,
   "id": "f453c520",
   "metadata": {},
   "outputs": [],
   "source": [
    "# Change"
   ]
  },
  {
   "cell_type": "code",
   "execution_count": 92,
   "id": "33d892f5",
   "metadata": {},
   "outputs": [],
   "source": [
    "# df1[\"Percentage change in revenue\"] = Change"
   ]
  },
  {
   "cell_type": "code",
   "execution_count": 93,
   "id": "53d2a475",
   "metadata": {},
   "outputs": [],
   "source": [
    "# df1"
   ]
  },
  {
   "cell_type": "code",
   "execution_count": 94,
   "id": "007ceda2",
   "metadata": {},
   "outputs": [],
   "source": [
    "# round((1/df1[\"Earnings Yield\"]),4)"
   ]
  },
  {
   "cell_type": "code",
   "execution_count": 95,
   "id": "972f271f",
   "metadata": {},
   "outputs": [],
   "source": [
    "# df1[df1.columns != \"Company\"]"
   ]
  },
  {
   "cell_type": "code",
   "execution_count": 96,
   "id": "5d2ba10b",
   "metadata": {},
   "outputs": [],
   "source": [
    "# df1.columns != \"Company\""
   ]
  },
  {
   "cell_type": "code",
   "execution_count": 81,
   "id": "b393687d",
   "metadata": {},
   "outputs": [],
   "source": [
    "# for i in list(df1):\n",
    "#     print(df1[i])"
   ]
  },
  {
   "cell_type": "code",
   "execution_count": 85,
   "id": "5734ae1e",
   "metadata": {},
   "outputs": [],
   "source": [
    "# pd.DataFrame(NotFound).to_csv(\"NoData.csv\")"
   ]
  },
  {
   "cell_type": "code",
   "execution_count": 86,
   "id": "5eb81c3d",
   "metadata": {},
   "outputs": [],
   "source": [
    "# df = pd.read_csv(\"Torrent Power Ltd. Fin Ratio.csv\")"
   ]
  },
  {
   "cell_type": "code",
   "execution_count": 87,
   "id": "92dae543",
   "metadata": {},
   "outputs": [],
   "source": [
    "# df.to_csv(\"Torrent Power Ltd. Fin Ratio.csv\")"
   ]
  },
  {
   "cell_type": "code",
   "execution_count": 88,
   "id": "7c21a175",
   "metadata": {},
   "outputs": [],
   "source": [
    "# list(df)"
   ]
  },
  {
   "cell_type": "code",
   "execution_count": 79,
   "id": "92f2ae37",
   "metadata": {},
   "outputs": [],
   "source": [
    "# L = []\n",
    "# for name in list(df):\n",
    "#     if name == \"Ratio\":\n",
    "#         L.append(name)\n",
    "#     elif name.endswith(\"22\"):\n",
    "#         L.append(\"2022\")\n",
    "#     elif name.endswith(\"21\"):\n",
    "#         L.append(\"2021\")\n",
    "#     elif name.endswith(\"20\"):\n",
    "#         L.append(\"2020\")\n",
    "#     elif name.endswith(\"19\"):\n",
    "#         L.append(\"2019\")\n",
    "#     elif name.endswith(\"18\"):\n",
    "#         L.append(\"2018\")\n",
    "#     else:\n",
    "#         L.append(name)"
   ]
  },
  {
   "cell_type": "code",
   "execution_count": 89,
   "id": "60285d82",
   "metadata": {},
   "outputs": [],
   "source": [
    "# df.iloc[:,2:(6+3)]"
   ]
  },
  {
   "cell_type": "code",
   "execution_count": 33,
   "id": "1f410cce",
   "metadata": {},
   "outputs": [],
   "source": [
    "# df.columns = L"
   ]
  },
  {
   "cell_type": "code",
   "execution_count": 39,
   "id": "bf0af7cd",
   "metadata": {},
   "outputs": [],
   "source": [
    "# df.to_csv(\"Torrent Power Ltd. Fin Ratio.csv\")"
   ]
  },
  {
   "cell_type": "code",
   "execution_count": 97,
   "id": "7b6a28c2",
   "metadata": {},
   "outputs": [],
   "source": [
    "# L"
   ]
  },
  {
   "cell_type": "code",
   "execution_count": 99,
   "id": "86bf6dc7",
   "metadata": {},
   "outputs": [],
   "source": [
    "# symbol = \"SBIN\"\n",
    "# Stock_Price = []\n",
    "# for i in [2022,2021,2020,2019,2018]:\n",
    "#     count = 1\n",
    "#     data = pd.DataFrame()\n",
    "#     while data.empty == True:\n",
    "#         start = date(i,4,count)\n",
    "#         end = date(i,4,count)\n",
    "#         data = nsepy.get_history(symbol = symbol, start = start,end = end)\n",
    "#         if data.empty == False:\n",
    "#             Stock_Price.append(data.VWAP[0])\n",
    "#         count += 1\n",
    "        \n"
   ]
  },
  {
   "cell_type": "code",
   "execution_count": 100,
   "id": "4d258925",
   "metadata": {},
   "outputs": [],
   "source": [
    "# Stock_Price"
   ]
  },
  {
   "cell_type": "code",
   "execution_count": 101,
   "id": "9882fde5",
   "metadata": {},
   "outputs": [],
   "source": [
    "# df1"
   ]
  },
  {
   "cell_type": "code",
   "execution_count": 102,
   "id": "0c44f4b9",
   "metadata": {},
   "outputs": [],
   "source": [
    "# count = 1\n",
    "# Stock_Price = []\n",
    "# data = pd.DataFrame()\n",
    "# while data.empty == True:\n",
    "#     start = date(2018,4,count)\n",
    "#     end = date(2018,4,count)\n",
    "#     data = nsepy.get_history(symbol = symbol, start = start,end = end)\n",
    "#     if data.empty == False:\n",
    "#         Stock_Price.append(data.VWAP[0])\n",
    "#     count += 1"
   ]
  },
  {
   "cell_type": "code",
   "execution_count": 103,
   "id": "9fca051f",
   "metadata": {},
   "outputs": [],
   "source": [
    "# data.VWAP.values"
   ]
  },
  {
   "cell_type": "code",
   "execution_count": 104,
   "id": "f12c2243",
   "metadata": {},
   "outputs": [],
   "source": [
    "# Stock_Price"
   ]
  },
  {
   "cell_type": "code",
   "execution_count": 105,
   "id": "8da90773",
   "metadata": {},
   "outputs": [],
   "source": [
    "# data = pd.DataFrame()"
   ]
  },
  {
   "cell_type": "code",
   "execution_count": 106,
   "id": "77687ad3",
   "metadata": {},
   "outputs": [],
   "source": [
    "# data"
   ]
  },
  {
   "cell_type": "code",
   "execution_count": 107,
   "id": "6bf56da7",
   "metadata": {},
   "outputs": [],
   "source": [
    "# data.empty"
   ]
  },
  {
   "cell_type": "code",
   "execution_count": 108,
   "id": "9a9cd6a1",
   "metadata": {},
   "outputs": [],
   "source": [
    "# Stock_Price"
   ]
  },
  {
   "cell_type": "code",
   "execution_count": 109,
   "id": "0d9c7dac",
   "metadata": {},
   "outputs": [],
   "source": [
    "# start = date(2019,3,31)\n",
    "# end = date(2019,3,31)\n",
    "# data = nsepy.get_history(symbol = symbol, start = start,end = end)"
   ]
  },
  {
   "cell_type": "code",
   "execution_count": 110,
   "id": "8ef76b98",
   "metadata": {
    "scrolled": true
   },
   "outputs": [],
   "source": [
    "# data"
   ]
  },
  {
   "cell_type": "code",
   "execution_count": 111,
   "id": "66bda674",
   "metadata": {},
   "outputs": [],
   "source": [
    "# data.empty"
   ]
  },
  {
   "cell_type": "code",
   "execution_count": 113,
   "id": "0d999c7f",
   "metadata": {},
   "outputs": [],
   "source": [
    "# data.to_csv(\"SampleReturn.csv\")"
   ]
  },
  {
   "cell_type": "code",
   "execution_count": 114,
   "id": "87fbf273",
   "metadata": {
    "scrolled": false
   },
   "outputs": [],
   "source": [
    "# import numpy as np"
   ]
  },
  {
   "cell_type": "code",
   "execution_count": 115,
   "id": "7021560a",
   "metadata": {},
   "outputs": [],
   "source": [
    "# Average_Price = np.mean([data[\"Open\"],data[\"Close\"],data[\"High\"],data[\"Low\"]],axis = 0)"
   ]
  },
  {
   "cell_type": "code",
   "execution_count": 116,
   "id": "929f41a8",
   "metadata": {},
   "outputs": [],
   "source": [
    "# data[\"Average_Price\"] = Average_Price"
   ]
  },
  {
   "cell_type": "code",
   "execution_count": 117,
   "id": "e600e96d",
   "metadata": {},
   "outputs": [],
   "source": [
    "# data[\"Average_Price\"]"
   ]
  },
  {
   "cell_type": "code",
   "execution_count": 118,
   "id": "390ce1e9",
   "metadata": {},
   "outputs": [],
   "source": [
    "# for i in range(1,len(data[\"Average_Price\"])):\n",
    "#     print((data[\"Average_Price\"][i],data[\"Average_Price\"][i-1],round((data[\"Average_Price\"][i]-data[\"Average_Price\"][i-1])/data[\"Average_Price\"][i-1],4)))"
   ]
  },
  {
   "cell_type": "code",
   "execution_count": 119,
   "id": "5b004f78",
   "metadata": {},
   "outputs": [],
   "source": [
    "# Return_list = [0]\n",
    "# for i in range(1,len(data[\"Average_Price\"])):\n",
    "#     Return_list.append(round((data[\"Average_Price\"][i]-data[\"Average_Price\"][i-1])/data[\"Average_Price\"][i-1],4))\n",
    "# Return_list"
   ]
  },
  {
   "cell_type": "code",
   "execution_count": 37,
   "id": "9f4c9af2",
   "metadata": {},
   "outputs": [],
   "source": [
    "# #Dowloading contents of the web page\n",
    "# url = \"https://www.moneycontrol.com/financials/siemens/consolidated-ratiosVI/S#S\"\n",
    "# page = requests.get(url)"
   ]
  },
  {
   "cell_type": "code",
   "execution_count": 39,
   "id": "eb03c912",
   "metadata": {},
   "outputs": [],
   "source": [
    "# soup = BeautifulSoup(page.text, \"lxml\")"
   ]
  },
  {
   "cell_type": "code",
   "execution_count": 79,
   "id": "0fbdacba",
   "metadata": {},
   "outputs": [],
   "source": [
    "# soup"
   ]
  },
  {
   "cell_type": "code",
   "execution_count": 41,
   "id": "c9af1c97",
   "metadata": {},
   "outputs": [],
   "source": [
    "# #getting the table\n",
    "\n",
    "# table = soup.find('table',{'class':\"mctable1\"})"
   ]
  },
  {
   "cell_type": "code",
   "execution_count": 78,
   "id": "2f4a5f4e",
   "metadata": {},
   "outputs": [],
   "source": [
    "# table"
   ]
  },
  {
   "cell_type": "code",
   "execution_count": 45,
   "id": "a904b588",
   "metadata": {},
   "outputs": [],
   "source": [
    "# headers = []\n",
    "# for i in table.find_all(\"th\"):\n",
    "#     title = i.text.strip()\n",
    "#     headers.append(title)"
   ]
  },
  {
   "cell_type": "code",
   "execution_count": 80,
   "id": "47ad88d8",
   "metadata": {},
   "outputs": [],
   "source": [
    "# df = pd.DataFrame()"
   ]
  },
  {
   "cell_type": "code",
   "execution_count": 77,
   "id": "b0d652c3",
   "metadata": {},
   "outputs": [],
   "source": [
    "# L = []\n",
    "# for row in table.find_all(\"tr\")[2:]:\n",
    "#     data = row.find_all('td')\n",
    "#     row_data = [td.text.strip() for td in data]\n",
    "#     L.append(row_data)"
   ]
  },
  {
   "cell_type": "code",
   "execution_count": 76,
   "id": "714e21f6",
   "metadata": {},
   "outputs": [],
   "source": [
    "# pd.DataFrame(L).rename(columns = {0:\"Ratios\",\n",
    "#                                   1 :\"2022\" ,\n",
    "#                                    2:\"2021\",\n",
    "#                                   3:\"2020\",\n",
    "#                                   4:\"2019\",\n",
    "#                                   5:\"2018\"})"
   ]
  },
  {
   "cell_type": "code",
   "execution_count": 74,
   "id": "e4fbd3cb",
   "metadata": {},
   "outputs": [],
   "source": [
    "# for i,j in zip(URLS[\"Company Name\"],URLS[\"URL\"]):\n",
    "#     print(i,j)"
   ]
  },
  {
   "cell_type": "code",
   "execution_count": 61,
   "id": "b521bb9d",
   "metadata": {},
   "outputs": [],
   "source": [
    "# # for company,URL in zip(URLS[\"Company Name\"],URLS[\"URL\"]):\n",
    "# url = \"https://www.moneycontrol.com/financials/siemens/consolidated-ratiosVI/S#S\"\n",
    "# page = requests.get(url)\n",
    "# soup = BeautifulSoup(page.text, \"lxml\")\n",
    "# table = soup.find('table',{'class':\"mctable1\"})\n",
    "# L = []\n",
    "# for row in table.find_all(\"tr\"):\n",
    "#     data = row.find_all('td')\n",
    "#     row_data = [td.text.strip() for td in data]\n",
    "#     L.append(row_data)\n",
    "# df = pd.DataFrame(L)\n",
    "# header = df.loc[0]\n",
    "# df = df[2:]\n",
    "# df.columns = header\n",
    "# df  = df.rename(columns = {list(df)[0]: \"Ratio\"})\n",
    "# # #     df.to_csv()"
   ]
  },
  {
   "cell_type": "code",
   "execution_count": 72,
   "id": "d7c976e7",
   "metadata": {},
   "outputs": [],
   "source": [
    "# header = df.loc[0]\n",
    "# df = df[2:]\n",
    "# df.columns = header\n",
    "# df  = df.rename(columns = {\"Key Financial Ratios of Siemens (in Rs. Cr.)\" : \"Ratio\"})\n",
    "# df.columns[2] = \"new_name\"\n"
   ]
  },
  {
   "cell_type": "code",
   "execution_count": 73,
   "id": "3d43f489",
   "metadata": {},
   "outputs": [],
   "source": [
    "# for table in soup.find_all('table'):\n",
    "#     print(table.get('class'))"
   ]
  },
  {
   "cell_type": "code",
   "execution_count": 27,
   "id": "f64f7e79",
   "metadata": {},
   "outputs": [],
   "source": [
    "# tables = soup.find_all('table')\n",
    "# table = soup.find('table',class_ = \"mctable1\")"
   ]
  },
  {
   "cell_type": "code",
   "execution_count": 36,
   "id": "5ea1e0a9",
   "metadata": {},
   "outputs": [],
   "source": [
    "# for row in table.tbody.find_all('tr'):\n",
    "#     columns = row.find_all('td')\n",
    "#     row_data = [td.text.str]"
   ]
  }
 ],
 "metadata": {
  "kernelspec": {
   "display_name": "Python 3 (ipykernel)",
   "language": "python",
   "name": "python3"
  },
  "language_info": {
   "codemirror_mode": {
    "name": "ipython",
    "version": 3
   },
   "file_extension": ".py",
   "mimetype": "text/x-python",
   "name": "python",
   "nbconvert_exporter": "python",
   "pygments_lexer": "ipython3",
   "version": "3.9.12"
  }
 },
 "nbformat": 4,
 "nbformat_minor": 5
}
